{
 "cells": [
  {
   "cell_type": "markdown",
   "metadata": {},
   "source": [
    "# Catcher Pitch Framing\n",
    "\n",
    "See this paper for a \"hierarchical bayesian\" approach:https://arxiv.org/abs/1704.00823\n",
    "\n",
    "See this DataRobot blog post for a ML approach (really just logistic regression): https://blog.datarobot.com/catcher-pitch-framing-using-machine-learning-part-1\n",
    "\n",
    "Or, the improved DataRobot model: https://blog.datarobot.com/catcher-pitch-framing-using-machine-learning-part-two\n",
    "\n"
   ]
  },
  {
   "cell_type": "code",
   "execution_count": 64,
   "metadata": {},
   "outputs": [],
   "source": [
    "import numpy as np\n",
    "import pandas as pd\n",
    "import warnings\n",
    "warnings.filterwarnings('ignore')\n",
    "import matplotlib.pyplot as plt\n",
    "import seaborn as sns\n",
    "%matplotlib inline"
   ]
  },
  {
   "cell_type": "markdown",
   "metadata": {},
   "source": [
    "## Data and Model"
   ]
  },
  {
   "cell_type": "markdown",
   "metadata": {},
   "source": [
    "### Statcast Data"
   ]
  },
  {
   "cell_type": "code",
   "execution_count": 2,
   "metadata": {},
   "outputs": [],
   "source": [
    "# import the data for calendar year\n",
    "def get_pitch_data(year):\n",
    "    \n",
    "    print(\"===================================================\")\n",
    "    print(f\"Gathering data for {year} season\")\n",
    "    print(\"===================================================\")\n",
    "    print()\n",
    "    \n",
    "    # import the full pitch-by-pitch dataset \n",
    "    pitch_data_df = pd.read_csv(f\"../data/pitch_data_{year}.csv\")\n",
    "    total_num_pitches = len(pitch_data_df)\n",
    "    \n",
    "    print(f\"Number of total pitches in {year} data: {total_num_pitches}\")\n",
    "    print()\n",
    "\n",
    "    # just keep the balls and called strikes\n",
    "    pitch_taken = ['ball', 'called_strike']\n",
    "    pitches_taken_df = pitch_data_df[pitch_data_df['description'].isin(pitch_taken)]\n",
    "    num_pitches_taken = len(pitches_taken_df)\n",
    "\n",
    "    print(f\"Number of pitches taken: {num_pitches_taken}\")\n",
    "    print(f\"Percentage of pitches taken: {round((num_pitches_taken / total_num_pitches) * 100., 2)}\")\n",
    "    print()\n",
    "\n",
    "    # compute the number/percentage of taken strikes\n",
    "    strikes_taken_df = pitches_taken_df[pitches_taken_df['description'] == 'called_strike']\n",
    "    num_strikes_taken = len(strikes_taken_df)\n",
    "\n",
    "    print(f\"Number of strikes taken: {num_strikes_taken}\")\n",
    "    print(f\"Percentage of pitches taken that were called strikes: {round((num_strikes_taken / num_pitches_taken) * 100., 2)}\")\n",
    "    print()\n",
    "    \n",
    "    # construct the approximate strike zone\n",
    "    left_strike_boundary = -0.71\n",
    "    right_strike_boundary = -left_strike_boundary\n",
    "\n",
    "    pitches_taken_df['low_strike_boundary'] = pitches_taken_df['sz_bot']\n",
    "    pitches_taken_df['high_strike_boundary'] = pitches_taken_df['sz_bot'] + pitches_taken_df['sz_top']\n",
    "\n",
    "    bottom_strike_boundary = pitches_taken_df['low_strike_boundary'].mean()\n",
    "    top_strike_boundary = pitches_taken_df['high_strike_boundary'].mean()\n",
    "\n",
    "    print(\"===================================================\")\n",
    "    print(f\"Top boundary of approximate strike zone: {round(top_strike_boundary, 2)}\")\n",
    "    print(f\"Bottom boundary of approximate strike zone: {round(bottom_strike_boundary, 2)}\")\n",
    "    print(f\"Right boundary of approximate strike zone: {right_strike_boundary}\")\n",
    "    print(f\"Left boundary of approximate strike zone: {left_strike_boundary}\")\n",
    "    print(\"===================================================\")\n",
    "    print()\n",
    "    \n",
    "    # restrict ourselves to pitches that were \"close enough\" (i.e., within one foot of the approximate strike zone)\n",
    "    pitches_taken_df = pitches_taken_df[\n",
    "        (pitches_taken_df['plate_x'] >= left_strike_boundary - 1) &\\\n",
    "        (pitches_taken_df['plate_x'] <= right_strike_boundary + 1) &\\\n",
    "        (pitches_taken_df['plate_z'] <= top_strike_boundary + 1) &\\\n",
    "        (pitches_taken_df['plate_z'] >= bottom_strike_boundary - 1)\n",
    "    ]\n",
    "    num_pitches_in_zone = len(pitches_taken_df)\n",
    "    \n",
    "    print(f\"Number of pitches within 1 foot of approximate stike zone: {num_pitches_in_zone}\")\n",
    "    print(f\"Percentage of pitches within 1 foot of approximate strike zone: {round((num_pitches_in_zone / total_num_pitches) * 100., 2)}\")\n",
    "    print()\n",
    "    \n",
    "    # join with HP umpire dataframe (to bring in the ID of the HP umpire)\n",
    "    team_rename_dict = {'NYY': 'NYA',\n",
    "                        'NYM': 'NYN', \n",
    "                        'TB': 'TBA', \n",
    "                        'CHC': 'CHN',\n",
    "                        'CWS': 'CHA',\n",
    "                        'KC': 'KCA',\n",
    "                        'SF': 'SFN',\n",
    "                        'SD': 'SDN',\n",
    "                        'LAD': 'LAN',\n",
    "                        'LAA': 'ANA',\n",
    "                        'STL': 'SLN',\n",
    "                        'WSH': 'WAS'}\n",
    "\n",
    "    def rename_team(x):\n",
    "        if x in list(team_rename_dict.keys()):\n",
    "            return team_rename_dict[x]\n",
    "        else:\n",
    "            return x\n",
    "    pitches_taken_df['home_team'] = pitches_taken_df['home_team'].apply(rename_team)\n",
    "    pitches_taken_df['game_team_id'] = pitches_taken_df['home_team'] + pitches_taken_df['game_date'].str.replace('-', '')\n",
    "    hp_umps = pd.read_csv(f\"../data/hp_umpires_{year}.csv\", header=None)\n",
    "    hp_umps.columns = ['game_team_id', 'hp_umpire']\n",
    "    pitches_taken_df = pd.merge(pitches_taken_df, hp_umps, how='inner', on='game_team_id')\n",
    "    \n",
    "    # compute the unique number of umpires/batters/catchers/pitchers in the dataset\n",
    "    num_unique_umpires = len(pitches_taken_df['hp_umpire'].unique())\n",
    "    num_unique_batters = len(pitches_taken_df['batter'].unique())\n",
    "    num_unique_catchers = len(pitches_taken_df['fielder_2'].unique())\n",
    "    num_unique_pitchers = len(pitches_taken_df['pitcher'].unique())\n",
    "\n",
    "    print(f\"Number of unique umpires: {num_unique_umpires}\")\n",
    "    print(f\"Number of unique batters: {num_unique_batters}\")\n",
    "    print(f\"Number of unique catchers: {num_unique_catchers}\")\n",
    "    print(f\"Number of unique pitchers: {num_unique_pitchers}\")\n",
    "    print()\n",
    "    print()\n",
    "    \n",
    "    return pitches_taken_df"
   ]
  },
  {
   "cell_type": "markdown",
   "metadata": {},
   "source": [
    "### Adjusting for Pitch Location\n",
    "\n",
    "Use data from 2015-17 to estimate the pitch location function $f^u(x, z)$."
   ]
  },
  {
   "cell_type": "code",
   "execution_count": 3,
   "metadata": {},
   "outputs": [
    {
     "name": "stdout",
     "output_type": "stream",
     "text": [
      "===================================================\n",
      "Gathering data for 2015 season\n",
      "===================================================\n",
      "\n",
      "Number of total pitches in 2015 data: 702302\n",
      "\n",
      "Number of pitches taken: 351121\n",
      "Percentage of pitches taken: 50.0\n",
      "\n",
      "Number of strikes taken: 118692\n",
      "Percentage of pitches taken that were called strikes: 33.8\n",
      "\n",
      "===================================================\n",
      "Top boundary of approximate strike zone: 5.04\n",
      "Bottom boundary of approximate strike zone: 1.58\n",
      "Right boundary of approximate strike zone: 0.71\n",
      "Left boundary of approximate strike zone: -0.71\n",
      "===================================================\n",
      "\n",
      "Number of pitches within 1 foot of approximate stike zone: 309768\n",
      "Percentage of pitches within 1 foot of approximate strike zone: 44.11\n",
      "\n",
      "Number of unique umpires: 92\n",
      "Number of unique batters: 952\n",
      "Number of unique catchers: 110\n",
      "Number of unique pitchers: 734\n",
      "\n",
      "\n",
      "===================================================\n",
      "Gathering data for 2016 season\n",
      "===================================================\n",
      "\n",
      "Number of total pitches in 2016 data: 715823\n",
      "\n",
      "Number of pitches taken: 360212\n",
      "Percentage of pitches taken: 50.32\n",
      "\n",
      "Number of strikes taken: 120771\n",
      "Percentage of pitches taken that were called strikes: 33.53\n",
      "\n",
      "===================================================\n",
      "Top boundary of approximate strike zone: 5.07\n",
      "Bottom boundary of approximate strike zone: 1.59\n",
      "Right boundary of approximate strike zone: 0.71\n",
      "Left boundary of approximate strike zone: -0.71\n",
      "===================================================\n",
      "\n",
      "Number of pitches within 1 foot of approximate stike zone: 318709\n",
      "Percentage of pitches within 1 foot of approximate strike zone: 44.52\n",
      "\n",
      "Number of unique umpires: 90\n",
      "Number of unique batters: 957\n",
      "Number of unique catchers: 105\n",
      "Number of unique pitchers: 740\n",
      "\n",
      "\n",
      "===================================================\n",
      "Gathering data for 2017 season\n",
      "===================================================\n",
      "\n",
      "Number of total pitches in 2017 data: 721243\n",
      "\n",
      "Number of pitches taken: 365007\n",
      "Percentage of pitches taken: 50.61\n",
      "\n",
      "Number of strikes taken: 120919\n",
      "Percentage of pitches taken that were called strikes: 33.13\n",
      "\n",
      "===================================================\n",
      "Top boundary of approximate strike zone: 5.05\n",
      "Bottom boundary of approximate strike zone: 1.61\n",
      "Right boundary of approximate strike zone: 0.71\n",
      "Left boundary of approximate strike zone: -0.71\n",
      "===================================================\n",
      "\n",
      "Number of pitches within 1 foot of approximate stike zone: 322922\n",
      "Percentage of pitches within 1 foot of approximate strike zone: 44.77\n",
      "\n",
      "Number of unique umpires: 92\n",
      "Number of unique batters: 943\n",
      "Number of unique catchers: 113\n",
      "Number of unique pitchers: 755\n",
      "\n",
      "\n",
      "Total pitches in data to estimate location function: 950673\n"
     ]
    }
   ],
   "source": [
    "taken_pitches_2015_df = get_pitch_data(2015)\n",
    "taken_pitches_2016_df = get_pitch_data(2016)\n",
    "taken_pitches_2017_df = get_pitch_data(2017)\n",
    "\n",
    "taken_pitches_2015_17_df = pd.concat([taken_pitches_2015_df, taken_pitches_2016_df, taken_pitches_2017_df])\n",
    "\n",
    "print(f\"Total pitches in data to estimate location function: {len(taken_pitches_2015_17_df)}\")"
   ]
  },
  {
   "cell_type": "markdown",
   "metadata": {},
   "source": [
    "#### Heat Map of Empirical Called Strike Probabilities"
   ]
  },
  {
   "cell_type": "code",
   "execution_count": 6,
   "metadata": {},
   "outputs": [],
   "source": []
  },
  {
   "cell_type": "code",
   "execution_count": 87,
   "metadata": {},
   "outputs": [
    {
     "data": {
      "image/png": "[encoded data removed]",
      "text/plain": [
       "<Figure size 576x432 with 2 Axes>"
      ]
     },
     "metadata": {
      "needs_background": "light"
     },
     "output_type": "display_data"
    }
   ],
   "source": [
    "# just consider RH pitcher vs RH batter\n",
    "batR_pitchR_df = taken_pitches_2015_17_df[(taken_pitches_2015_17_df['p_throws'] == 'R') & (taken_pitches_2015_17_df['stand'] == 'R')]\n",
    "\n",
    "# just keep pitch outcome and plate position\n",
    "cols_to_keep = ['description', 'plate_x', 'plate_z']\n",
    "heat_map_df = batR_pitchR_df[cols_to_keep]\n",
    "\n",
    "# convert to inches\n",
    "heat_map_df['plate_x'] = heat_map_df['plate_x'].apply(lambda x: x * 12)\n",
    "heat_map_df['plate_z'] = heat_map_df['plate_z'].apply(lambda x: x * 12)\n",
    "\n",
    "# convert outcome to binary (1 = called strike, 0 = ball)\n",
    "heat_map_df['description'] = heat_map_df['description'].apply(lambda x: 1 if x == 'called_strike' else 0)\n",
    "\n",
    "# set limits\n",
    "heat_map_df = heat_map_df[(np.abs(heat_map_df['plate_x']) <= 22) &\\\n",
    "                          (heat_map_df['plate_z'] <= 55) & (heat_map_df['plate_z'] >= 6)]\n",
    "\n",
    "# for binning purposes, take the \"floor\" of x and z coordiates\n",
    "heat_map_df['plate_x'] = np.floor(heat_map_df['plate_x']).astype(int)\n",
    "heat_map_df['plate_z'] = np.floor(heat_map_df['plate_z']).astype(int)\n",
    "\n",
    "# compute the historical strike probability (i.e., the mean) for each cell\n",
    "temp_df = pd.DataFrame(heat_map_df.groupby(['plate_x', 'plate_z'])['description'].mean())\n",
    "temp_df.reset_index(inplace=True, drop=False)\n",
    "temp_df.columns = ['x', 'z', 'probability']\n",
    "\n",
    "temp_df = temp_df.pivot('z', 'x', 'probability')\n",
    "plt.figure(figsize=(8,6))\n",
    "plt.plot([13, 29], [36, 36], '--k')\n",
    "plt.plot([13, 29], [14, 14], '--k')\n",
    "plt.plot([13, 13], [14, 36], '--k')\n",
    "plt.plot([29, 29], [14, 36], '--k')\n",
    "plt.plot([12, 30], [37, 37], '-k')\n",
    "plt.plot([12, 30], [13, 13], '-k')\n",
    "plt.plot([12, 12], [13, 37], '-k')\n",
    "plt.plot([30, 30], [13, 37], '-k')\n",
    "sns.heatmap(temp_df, cmap=\"RdBu_r\")\n",
    "\n",
    "plt.ylim(reversed(plt.ylim()))\n",
    "plt.xlabel(\"X (in)\")\n",
    "plt.ylabel(\"Z (in)\")\n",
    "plt.title(\"RHB-RHP\")\n",
    "plt.show()"
   ]
  },
  {
   "cell_type": "code",
   "execution_count": 84,
   "metadata": {},
   "outputs": [
    {
     "data": {
      "text/plain": [
       "(0.0, 42.0)"
      ]
     },
     "execution_count": 84,
     "metadata": {},
     "output_type": "execute_result"
    }
   ],
   "source": [
    "ax.get_xlim()"
   ]
  },
  {
   "cell_type": "code",
   "execution_count": 85,
   "metadata": {},
   "outputs": [
    {
     "data": {
      "text/plain": [
       "(0.0, 48.0)"
      ]
     },
     "execution_count": 85,
     "metadata": {},
     "output_type": "execute_result"
    }
   ],
   "source": [
    "ax.get_ylim()"
   ]
  },
  {
   "cell_type": "code",
   "execution_count": null,
   "metadata": {},
   "outputs": [],
   "source": []
  }
 ],
 "metadata": {
  "kernelspec": {
   "display_name": "Python 3",
   "language": "python",
   "name": "python3"
  },
  "language_info": {
   "codemirror_mode": {
    "name": "ipython",
    "version": 3
   },
   "file_extension": ".py",
   "mimetype": "text/x-python",
   "name": "python",
   "nbconvert_exporter": "python",
   "pygments_lexer": "ipython3",
   "version": "3.6.8"
  }
 },
 "nbformat": 4,
 "nbformat_minor": 2
}
