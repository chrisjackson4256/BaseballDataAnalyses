{
 "cells": [
  {
   "cell_type": "markdown",
   "metadata": {},
   "source": [
    "# Catcher Pitch Framing\n",
    "\n",
    "See this paper for a \"hierarchical bayesian\" approach:https://arxiv.org/abs/1704.00823\n",
    "\n",
    "See this DataRobot blog post for a ML approach (really just logistic regression): https://blog.datarobot.com/catcher-pitch-framing-using-machine-learning-part-1\n",
    "\n",
    "Or, the improved DataRobot model: https://blog.datarobot.com/catcher-pitch-framing-using-machine-learning-part-two"
   ]
  },
  {
   "cell_type": "code",
   "execution_count": 1,
   "metadata": {},
   "outputs": [],
   "source": [
    "import csv\n",
    "import requests\n",
    "from bs4 import BeautifulSoup, Comment\n",
    "bbref_addr = 'https://www.baseball-reference.com'\n",
    "\n",
    "from pybaseball import statcast\n",
    "\n",
    "import numpy as np\n",
    "import pandas as pd\n",
    "import warnings\n",
    "warnings.filterwarnings('ignore')\n",
    "import matplotlib.pyplot as plt\n",
    "import seaborn as sns\n",
    "%matplotlib inline\n",
    "\n",
    "from pygam import LogisticGAM"
   ]
  },
  {
   "cell_type": "markdown",
   "metadata": {},
   "source": [
    "## Data and Model\n",
    "\n",
    "The goal of this study is to build a statistical model to estimate each umpire's probability of calling a strike (adjusting for pitch participants, pitch location and contextual information like the count).  Using this model we can estimate each catcher's effect on an umpire's chance of calling a strike.  We then translate these estimated effects into average runs saved across a season.\n",
    "\n",
    "__Methodology__\n",
    "\n",
    "The approach we take to esimate the catcher effect is to use an iterative method to first distribute credit for a called strike among the batter, catcher, pitcher and umpire.  We will fit a statistical model of the called strike probability that accounts for the above factors.  Armed with such a model, we then estimate the predicted called strike probability with and without the catcher.  The difference in these probabilities reflects the catcher's apparent framing effect on that pitch.  Finally, we estimate the impact of framing by weighting these effects by the value of \"stealing a strike\" and summing over all pitches caught by a catcher.\n",
    "\n",
    "Before beginning, let us introduce some notation.  \n",
    "\n",
    " - For a given taken pitch, let $y=1$ if it is called a strike and let $y = 0$ if it is called a ball.\n",
    " \n",
    " - Let $b$ , $ca$, $co$ , $p$ and $u$ be indices corresponding to the batter, catcher, count, pitcher and umpire for that pitch.\n",
    " \n",
    " - Let $x$ and $z$ be the horizontal and vertical coordinates of the pitch as it crosses the front of home plate, respectively \n",
    " \n",
    " - To accomodate a separate model for each umpire $u$ we introduce vectors $\\Theta^{u, B}$, $\\Theta^{u, CA}$, $\\Theta^{u, CO}$ and $\\Theta^{u, P}$ to hold the _partial_ effect of each batter, catcher, count and pitcher, respectively, on umpire _u_'s likelihood to call a strike. \n",
    " \n",
    " - For each umpire _u_, we introduce a function of pitch location $f^u(x, z)$\n",
    " \n",
    "Then, at a high level, we model the log-odds of a strike call as:\n",
    "\n",
    "\\begin{equation}\n",
    "\\log \\left( \\frac{P(y = 1)}{P(y = 0)} \\right) = \\Theta^{u, B}_b + \\Theta^{u, CA}_{ca} + \\Theta^{u, CO}_{co} + \\Theta^{u, P}_p + f^u(x, z)\n",
    "\\end{equation}\n",
    "\n",
    "All of the models are fit in a hierarchical Bayesian framework, which provides natural uncertainty quantification for our framing estimates (this quantification is is vital considering the fact that several teams are making framing-based roster decisions).\n",
    "\n",
    "The data we use is from the 2015-2019 seasons.  We use 2015-2017 data to select the function $f^u(x, z)$.  The data from 2018 is then used to train (and test) the strike probability model.  Finally, we make predictions on 2019 and assess the framing ability (measured in \"stolen strikes\" or \"+Calls\") and convert this ability into \"runs saved.\"  "
   ]
  },
  {
   "cell_type": "markdown",
   "metadata": {},
   "source": [
    "#### Download the Pitch-by-Pitch Data (if you haven't already)"
   ]
  },
  {
   "cell_type": "code",
   "execution_count": null,
   "metadata": {},
   "outputs": [],
   "source": [
    "# pitch-by-pitch data\n",
    "# data2010 = statcast(start_dt='2010-04-04', end_dt='2010-10-03')\n",
    "# data2010.to_csv(\"../data/pitch_data_2010.csv\", index=False)\n",
    "\n",
    "# data2011 = statcast(start_dt='2011-03-31', end_dt='2011-09-28')\n",
    "# data2011.to_csv(\"../data/pitch_data_2011.csv\", index=False)\n",
    "\n",
    "# data2012 = statcast(start_dt='2012-03-28', end_dt='2012-10-03')\n",
    "# data2012.to_csv(\"../data/pitch_data_2012.csv\", index=False)\n",
    "\n",
    "# data2013 = statcast(start_dt='2013-03-31', end_dt='2013-09-30')\n",
    "# data2013.to_csv(\"../data/pitch_data_2013.csv\", index=False)\n",
    "\n",
    "# data2014 = statcast(start_dt='2014-03-22', end_dt='2014-09-28')\n",
    "# data2014.to_csv(\"../data/pitch_data_2014.csv\", index=False)\n",
    "\n",
    "# data2015 = statcast(start_dt='2015-04-05', end_dt='2015-10-04')\n",
    "# data2015.to_csv(\"../data/pitch_data_2015.csv\", index=False)\n",
    "\n",
    "# data2016 = statcast(start_dt='2016-04-03', end_dt='2016-10-02')\n",
    "# data2016.to_csv(\"../data/pitch_data_2016.csv\", index=False)\n",
    "\n",
    "# data2017 = statcast(start_dt='2017-04-02', end_dt='2017-10-01')\n",
    "# data2017.to_csv(\"../data/pitch_data_2017.csv\", index=False)\n",
    "\n",
    "# data2018 = statcast(start_dt='2018-03-29', end_dt='2018-10-01')\n",
    "# data2018.to_csv(\"../data/pitch_data_2018.csv\", index=False)\n",
    "\n",
    "# data2019 = statcast(start_dt='2019-03-20', end_dt='2019-08-31')\n",
    "# data2019.to_csv(\"../data/pitch_data_2019.csv\", index=False)"
   ]
  },
  {
   "cell_type": "markdown",
   "metadata": {},
   "source": [
    "#### Scrape the Homeplate Umpire Data (if you haven't already)"
   ]
  },
  {
   "cell_type": "raw",
   "metadata": {},
   "source": [
    "def scrape_hp_umps(year=2015):\n",
    "    \n",
    "    schedule_page = requests.get(f\"{bbref_addr}/leagues/MLB/{year}-schedule.shtml\")\n",
    "    soup = BeautifulSoup(schedule_page.content, 'html.parser')\n",
    "    \n",
    "    games_list = soup.find_all(\"p\", attrs={\"game\"})\n",
    "    games_list_href = [x.find_all(\"a\", href=True)[-1]['href'] for x in games_list]\n",
    "    \n",
    "    games_list_href = [x for x in games_list_href if x.startswith('/boxes')]\n",
    "        \n",
    "    hp_umpire_dict = {}\n",
    "    for i, game in enumerate(games_list_href):\n",
    "\n",
    "        if i % 100 == 0:\n",
    "            print(f\"Game {i}\")\n",
    "\n",
    "        # get the id for the game\n",
    "        game_id = game.split('/')[-1][:-7]\n",
    "\n",
    "        # build the url for the game\n",
    "        game_addr = bbref_addr + game\n",
    "        \n",
    "        # scrape the webpage for the game\n",
    "        game_page = requests.get(game_addr)\n",
    "        soup = BeautifulSoup(game_page.content, 'html.parser')\n",
    "\n",
    "        # the umpires are stashed in a comments section\n",
    "        comments = soup.find_all(string=lambda text: isinstance(text, Comment))\n",
    "        ump_string = [x for x in comments if 'Umpires' in x][0]\n",
    "        ump_string = ump_string.strip()\n",
    "        ump_string = ump_string.replace(',', '')\n",
    "\n",
    "        # extract the HP umpire\n",
    "        ump_list = ump_string.split()\n",
    "        hp_idx = ump_list.index('HP')\n",
    "        first_name = ump_list[hp_idx+2]\n",
    "        last_name = ump_list[hp_idx+3]\n",
    "\n",
    "        hp_umpire_dict[game_id] = first_name + ' ' + last_name\n",
    "        \n",
    "    w = csv.writer(open(f\"../data/hp_umpires_{year}.csv\", \"w\"))\n",
    "    for key, val in hp_umpire_dict.items():\n",
    "        w.writerow([key, val])\n",
    "        \n",
    "for year in [2018, 2019]:\n",
    "    print(\"==================================\")\n",
    "    print(f\"getting data for {year} season...\")\n",
    "    print(\"==================================\")\n",
    "    scrape_hp_umps(year)\n",
    "    print()"
   ]
  },
  {
   "cell_type": "markdown",
   "metadata": {},
   "source": [
    "### Statcast Data\n",
    "\n",
    "We collected all pitch data using the pybaseball python module that allows for easy scraping of websites such as Baseball Savant, baseball-reference.com, etc.\n",
    "\n",
    "Although we are mainly interested in studying framing effects in the 2018 season, we collected all statcast data from the 2015 to 2019 regular seasons.  We use the data from 2015-17  to select the function of pitch location $f^u(x, z)$.  We then fit the final model using the 2018 data and assess the model's predictive performance using data from 2019."
   ]
  },
  {
   "cell_type": "markdown",
   "metadata": {},
   "source": [
    "### Function to Pre-process the Data"
   ]
  },
  {
   "cell_type": "code",
   "execution_count": 2,
   "metadata": {},
   "outputs": [],
   "source": [
    "# import the data for calendar year\n",
    "def get_pitch_data(year):\n",
    "    \n",
    "    print(\"===================================================\")\n",
    "    print(f\"Gathering data for {year} season\")\n",
    "    print(\"===================================================\")\n",
    "    print()\n",
    "    \n",
    "    # import the full pitch-by-pitch dataset \n",
    "    pitch_data_df = pd.read_csv(f\"../data/pitch_data_{year}.csv\")\n",
    "    total_num_pitches = len(pitch_data_df)\n",
    "    \n",
    "    print(f\"Number of total pitches in {year} data: {total_num_pitches}\")\n",
    "    print()\n",
    "\n",
    "    # just keep the balls and called strikes\n",
    "    pitch_taken = ['ball', 'called_strike']\n",
    "    pitches_taken_df = pitch_data_df[pitch_data_df['description'].isin(pitch_taken)]\n",
    "    num_pitches_taken = len(pitches_taken_df)\n",
    "\n",
    "    print(f\"Number of pitches taken: {num_pitches_taken}\")\n",
    "    print(f\"Percentage of pitches taken: {round((num_pitches_taken / total_num_pitches) * 100., 2)}\")\n",
    "    print()\n",
    "\n",
    "    # compute the number/percentage of taken strikes\n",
    "    strikes_taken_df = pitches_taken_df[pitches_taken_df['description'] == 'called_strike']\n",
    "    num_strikes_taken = len(strikes_taken_df)\n",
    "\n",
    "    print(f\"Number of strikes taken: {num_strikes_taken}\")\n",
    "    print(f\"Percentage of pitches taken that were called strikes: {round((num_strikes_taken / num_pitches_taken) * 100., 2)}\")\n",
    "    print()\n",
    "    \n",
    "    # construct the approximate strike zone\n",
    "    left_strike_boundary = -0.71\n",
    "    right_strike_boundary = -left_strike_boundary\n",
    "\n",
    "    pitches_taken_df['low_strike_boundary'] = pitches_taken_df['sz_bot']\n",
    "    pitches_taken_df['high_strike_boundary'] = pitches_taken_df['sz_bot'] + pitches_taken_df['sz_top']\n",
    "\n",
    "    bottom_strike_boundary = pitches_taken_df['low_strike_boundary'].mean()\n",
    "    top_strike_boundary = pitches_taken_df['high_strike_boundary'].mean()\n",
    "\n",
    "    print(\"===================================================\")\n",
    "    print(f\"Top boundary of approximate strike zone: {round(top_strike_boundary, 2)}\")\n",
    "    print(f\"Bottom boundary of approximate strike zone: {round(bottom_strike_boundary, 2)}\")\n",
    "    print(f\"Right boundary of approximate strike zone: {right_strike_boundary}\")\n",
    "    print(f\"Left boundary of approximate strike zone: {left_strike_boundary}\")\n",
    "    print(\"===================================================\")\n",
    "    print()\n",
    "    \n",
    "    # restrict ourselves to pitches that were \"close enough\" (i.e., within one foot of the approximate strike zone)\n",
    "    pitches_taken_df = pitches_taken_df[\n",
    "        (pitches_taken_df['plate_x'] >= left_strike_boundary - 1) &\\\n",
    "        (pitches_taken_df['plate_x'] <= right_strike_boundary + 1) &\\\n",
    "        (pitches_taken_df['plate_z'] <= top_strike_boundary + 1) &\\\n",
    "        (pitches_taken_df['plate_z'] >= bottom_strike_boundary - 1)\n",
    "    ]\n",
    "    num_pitches_in_zone = len(pitches_taken_df)\n",
    "    \n",
    "    print(f\"Number of pitches within 1 foot of approximate stike zone: {num_pitches_in_zone}\")\n",
    "    print(f\"Percentage of pitches within 1 foot of approximate strike zone: {round((num_pitches_in_zone / total_num_pitches) * 100., 2)}\")\n",
    "    print()\n",
    "    \n",
    "    # join with HP umpire dataframe (to bring in the ID of the HP umpire)\n",
    "    \n",
    "    # first, rename some team abbreviations to match between the two dataframes\n",
    "    team_rename_dict = {'NYY': 'NYA',\n",
    "                        'NYM': 'NYN', \n",
    "                        'TB': 'TBA', \n",
    "                        'CHC': 'CHN',\n",
    "                        'CWS': 'CHA',\n",
    "                        'KC': 'KCA',\n",
    "                        'SF': 'SFN',\n",
    "                        'SD': 'SDN',\n",
    "                        'LAD': 'LAN',\n",
    "                        'LAA': 'ANA',\n",
    "                        'STL': 'SLN',\n",
    "                        'WSH': 'WAS'}\n",
    "    def rename_team(x):\n",
    "        if x in list(team_rename_dict.keys()):\n",
    "            return team_rename_dict[x]\n",
    "        else:\n",
    "            return x\n",
    "    pitches_taken_df['home_team'] = pitches_taken_df['home_team'].apply(rename_team)\n",
    "    pitches_taken_df['game_team_id'] = pitches_taken_df['home_team'] + pitches_taken_df['game_date'].str.replace('-', '')\n",
    "    hp_umps = pd.read_csv(f\"../data/hp_umpires_{year}.csv\", header=None)\n",
    "    hp_umps.columns = ['game_team_id', 'hp_umpire']\n",
    "    pitches_taken_df = pd.merge(pitches_taken_df, hp_umps, how='inner', on='game_team_id')\n",
    "    \n",
    "    # compute the unique number of umpires/batters/catchers/pitchers in the dataset\n",
    "    num_unique_umpires = len(pitches_taken_df['hp_umpire'].unique())\n",
    "    num_unique_batters = len(pitches_taken_df['batter'].unique())\n",
    "    num_unique_catchers = len(pitches_taken_df['fielder_2'].unique())\n",
    "    num_unique_pitchers = len(pitches_taken_df['pitcher'].unique())\n",
    "\n",
    "    print(f\"Number of unique umpires: {num_unique_umpires}\")\n",
    "    print(f\"Number of unique batters: {num_unique_batters}\")\n",
    "    print(f\"Number of unique catchers: {num_unique_catchers}\")\n",
    "    print(f\"Number of unique pitchers: {num_unique_pitchers}\")\n",
    "    print()\n",
    "    print()\n",
    "    \n",
    "    return pitches_taken_df"
   ]
  },
  {
   "cell_type": "markdown",
   "metadata": {},
   "source": [
    "### Process the Data and Print out Some Counts"
   ]
  },
  {
   "cell_type": "code",
   "execution_count": 3,
   "metadata": {},
   "outputs": [
    {
     "name": "stdout",
     "output_type": "stream",
     "text": [
      "===================================================\n",
      "Gathering data for 2015 season\n",
      "===================================================\n",
      "\n",
      "Number of total pitches in 2015 data: 702302\n",
      "\n",
      "Number of pitches taken: 351121\n",
      "Percentage of pitches taken: 50.0\n",
      "\n",
      "Number of strikes taken: 118692\n",
      "Percentage of pitches taken that were called strikes: 33.8\n",
      "\n",
      "===================================================\n",
      "Top boundary of approximate strike zone: 5.04\n",
      "Bottom boundary of approximate strike zone: 1.58\n",
      "Right boundary of approximate strike zone: 0.71\n",
      "Left boundary of approximate strike zone: -0.71\n",
      "===================================================\n",
      "\n",
      "Number of pitches within 1 foot of approximate stike zone: 309768\n",
      "Percentage of pitches within 1 foot of approximate strike zone: 44.11\n",
      "\n",
      "Number of unique umpires: 92\n",
      "Number of unique batters: 952\n",
      "Number of unique catchers: 110\n",
      "Number of unique pitchers: 734\n",
      "\n",
      "\n",
      "===================================================\n",
      "Gathering data for 2016 season\n",
      "===================================================\n",
      "\n",
      "Number of total pitches in 2016 data: 715823\n",
      "\n",
      "Number of pitches taken: 360212\n",
      "Percentage of pitches taken: 50.32\n",
      "\n",
      "Number of strikes taken: 120771\n",
      "Percentage of pitches taken that were called strikes: 33.53\n",
      "\n",
      "===================================================\n",
      "Top boundary of approximate strike zone: 5.07\n",
      "Bottom boundary of approximate strike zone: 1.59\n",
      "Right boundary of approximate strike zone: 0.71\n",
      "Left boundary of approximate strike zone: -0.71\n",
      "===================================================\n",
      "\n",
      "Number of pitches within 1 foot of approximate stike zone: 318709\n",
      "Percentage of pitches within 1 foot of approximate strike zone: 44.52\n",
      "\n",
      "Number of unique umpires: 90\n",
      "Number of unique batters: 957\n",
      "Number of unique catchers: 105\n",
      "Number of unique pitchers: 740\n",
      "\n",
      "\n",
      "===================================================\n",
      "Gathering data for 2017 season\n",
      "===================================================\n",
      "\n",
      "Number of total pitches in 2017 data: 721243\n",
      "\n",
      "Number of pitches taken: 365007\n",
      "Percentage of pitches taken: 50.61\n",
      "\n",
      "Number of strikes taken: 120919\n",
      "Percentage of pitches taken that were called strikes: 33.13\n",
      "\n",
      "===================================================\n",
      "Top boundary of approximate strike zone: 5.05\n",
      "Bottom boundary of approximate strike zone: 1.61\n",
      "Right boundary of approximate strike zone: 0.71\n",
      "Left boundary of approximate strike zone: -0.71\n",
      "===================================================\n",
      "\n",
      "Number of pitches within 1 foot of approximate stike zone: 322922\n",
      "Percentage of pitches within 1 foot of approximate strike zone: 44.77\n",
      "\n",
      "Number of unique umpires: 92\n",
      "Number of unique batters: 943\n",
      "Number of unique catchers: 113\n",
      "Number of unique pitchers: 755\n",
      "\n",
      "\n",
      "===================================================\n",
      "Gathering data for 2018 season\n",
      "===================================================\n",
      "\n",
      "Number of total pitches in 2018 data: 721190\n",
      "\n",
      "Number of pitches taken: 364105\n",
      "Percentage of pitches taken: 50.49\n",
      "\n",
      "Number of strikes taken: 121519\n",
      "Percentage of pitches taken that were called strikes: 33.37\n",
      "\n",
      "===================================================\n",
      "Top boundary of approximate strike zone: 5.03\n",
      "Bottom boundary of approximate strike zone: 1.61\n",
      "Right boundary of approximate strike zone: 0.71\n",
      "Left boundary of approximate strike zone: -0.71\n",
      "===================================================\n",
      "\n",
      "Number of pitches within 1 foot of approximate stike zone: 320855\n",
      "Percentage of pitches within 1 foot of approximate strike zone: 44.49\n",
      "\n",
      "Number of unique umpires: 89\n",
      "Number of unique batters: 967\n",
      "Number of unique catchers: 116\n",
      "Number of unique pitchers: 796\n",
      "\n",
      "\n",
      "===================================================\n",
      "Gathering data for 2019 season\n",
      "===================================================\n",
      "\n",
      "Number of total pitches in 2019 data: 732473\n",
      "\n",
      "Number of pitches taken: 366359\n",
      "Percentage of pitches taken: 50.02\n",
      "\n",
      "Number of strikes taken: 120338\n",
      "Percentage of pitches taken that were called strikes: 32.85\n",
      "\n",
      "===================================================\n",
      "Top boundary of approximate strike zone: 4.97\n",
      "Bottom boundary of approximate strike zone: 1.6\n",
      "Right boundary of approximate strike zone: 0.71\n",
      "Left boundary of approximate strike zone: -0.71\n",
      "===================================================\n",
      "\n",
      "Number of pitches within 1 foot of approximate stike zone: 322874\n",
      "Percentage of pitches within 1 foot of approximate strike zone: 44.08\n",
      "\n",
      "Number of unique umpires: 93\n",
      "Number of unique batters: 981\n",
      "Number of unique catchers: 112\n",
      "Number of unique pitchers: 828\n",
      "\n",
      "\n",
      "Total pitches in data to estimate location function: 950673\n",
      "\n"
     ]
    }
   ],
   "source": [
    "# process the data used for f(x, z) and training the model\n",
    "taken_pitches_2015_df = get_pitch_data(2015)\n",
    "taken_pitches_2016_df = get_pitch_data(2016)\n",
    "taken_pitches_2017_df = get_pitch_data(2017)\n",
    "taken_pitches_2018_df = get_pitch_data(2018)\n",
    "taken_pitches_2019_df = get_pitch_data(2019)\n",
    "\n",
    "# put the 2015-17 data together for estimating f(x, z)\n",
    "taken_pitches_2015_17_df = pd.concat([taken_pitches_2015_df, taken_pitches_2016_df, taken_pitches_2017_df])\n",
    "\n",
    "print(f\"Total pitches in data to estimate location function: {len(taken_pitches_2015_17_df)}\")\n",
    "print()"
   ]
  },
  {
   "cell_type": "markdown",
   "metadata": {},
   "source": [
    "### Adjusting for Pitch Location\n",
    "\n",
    "Here, we use data from 2015-17 to estimate the pitch location function $f^u(x, z)$.\n",
    "\n",
    "Naively, the pitch location is the main driver of called strike probability.  The simplest way to incorporate pitch location into a _linear model_ would be to include the horizontal and vertical coordinates $(x, z)$ recorded in the statcast data as two more linear predictors in our model:\n",
    "\n",
    "\\begin{equation}\n",
    "f^u(x, z) = \\theta^u_x \\, x + \\theta^u_z \\, z\n",
    "\\end{equation}\n",
    "\n",
    "However, without accounting for any interaction terms, this forces an unrealistic left-to-right and top-to-bottom monotonicity in the called strike probablility surface.\n",
    "\n",
    "Below, we compute the empirical called strike probabilities using the data from 2015-17 data and plot the probabilites as a \"heat map.\"  For reference, we have also included the strike zone (the average of the estimated strike zone from the statcast data) as a rectangle with a dashed line as well as a solid-line rectangle which denotes the strike zone plus one inch outwards.  If the center of a pitch passes through the region bounded by the solid line, some part of the pitch passes through the estimated strike zone.  This heat map is drawn from the umpire’s perspective so right handed batters stand to the left of home plate (i.e. negative X values) and left-handed batters stand to the right (i.e. positive X values). "
   ]
  },
  {
   "cell_type": "markdown",
   "metadata": {},
   "source": [
    "#### Heat Map of Empirical Called Strike Probabilities"
   ]
  },
  {
   "cell_type": "code",
   "execution_count": 21,
   "metadata": {},
   "outputs": [
    {
     "data": {
      "image/png": "[encoded data removed]",
      "text/plain": [
       "<Figure size 432x288 with 2 Axes>"
      ]
     },
     "metadata": {
      "needs_background": "light"
     },
     "output_type": "display_data"
    },
    {
     "data": {
      "image/png": "[encoded data removed]",
      "text/plain": [
       "<Figure size 432x288 with 2 Axes>"
      ]
     },
     "metadata": {
      "needs_background": "light"
     },
     "output_type": "display_data"
    },
    {
     "data": {
      "image/png": "[encoded data removed]",
      "text/plain": [
       "<Figure size 432x288 with 2 Axes>"
      ]
     },
     "metadata": {
      "needs_background": "light"
     },
     "output_type": "display_data"
    },
    {
     "data": {
      "image/png": "[encoded data removed]",
      "text/plain": [
       "<Figure size 432x288 with 2 Axes>"
      ]
     },
     "metadata": {
      "needs_background": "light"
     },
     "output_type": "display_data"
    }
   ],
   "source": [
    "# function to plot called strike \n",
    "def strike_prob_plot(df, pitch_side='R', bat_side='R'):\n",
    "    \n",
    "    # specify the handedness of pitcher and batter\n",
    "    bat_pitch_df = df[(df['p_throws'] == pitch_side) &\\\n",
    "                      (df['stand'] == bat_side)]\n",
    "\n",
    "    # just keep pitch outcome and plate position\n",
    "    cols_to_keep = ['description', 'plate_x', 'plate_z']\n",
    "    heat_map_df = bat_pitch_df[cols_to_keep]\n",
    "\n",
    "    # convert to inches\n",
    "    heat_map_df['plate_x'] = heat_map_df['plate_x'].apply(lambda x: x * 12)\n",
    "    heat_map_df['plate_z'] = heat_map_df['plate_z'].apply(lambda x: x * 12)\n",
    "\n",
    "    # convert outcome to binary (1 = called strike, 0 = ball)\n",
    "    heat_map_df['description'] = heat_map_df['description'].apply(lambda x: 1 if x == 'called_strike' else 0)\n",
    "\n",
    "    # set limits\n",
    "    heat_map_df = heat_map_df[(np.abs(heat_map_df['plate_x']) <= 22) &\\\n",
    "                              (heat_map_df['plate_z'] <= 55) & (heat_map_df['plate_z'] >= 6)]\n",
    "\n",
    "    # for binning purposes, take the \"floor\" of x and z coordiates\n",
    "    heat_map_df['plate_x'] = np.floor(heat_map_df['plate_x']).astype(int)\n",
    "    heat_map_df['plate_z'] = np.floor(heat_map_df['plate_z']).astype(int)\n",
    "\n",
    "    # compute the historical strike probability (i.e., the mean) for each cell\n",
    "    temp_df = pd.DataFrame(heat_map_df.groupby(['plate_x', 'plate_z'])['description'].mean())\n",
    "    temp_df.reset_index(inplace=True, drop=False)\n",
    "    temp_df.columns = ['x', 'z', 'probability']\n",
    "    temp_df = temp_df.pivot('z', 'x', 'probability')\n",
    "    \n",
    "    f, ax = plt.subplots()\n",
    "    ax.plot([13, 29], [36, 36], '--k')\n",
    "    ax.plot([13, 29], [14, 14], '--k')\n",
    "    ax.plot([13, 13], [14, 36], '--k')\n",
    "    ax.plot([29, 29], [14, 36], '--k')\n",
    "    ax.plot([12, 30], [37, 37], '-k')\n",
    "    ax.plot([12, 30], [13, 13], '-k')\n",
    "    ax.plot([12, 12], [13, 37], '-k')\n",
    "    ax.plot([30, 30], [13, 37], '-k')\n",
    "    sns.heatmap(temp_df, cmap=\"RdBu_r\")\n",
    "\n",
    "    ax.set_ylim(reversed(plt.ylim()))\n",
    "    ax.set_xlabel(\"X (in)\")\n",
    "    ax.set_ylabel(\"Z (in)\")\n",
    "    ax.set_title(f\"{pitch_side}HB-{bat_side}HP\")\n",
    "        \n",
    "# make the plots\n",
    "strike_prob_plot(taken_pitches_2015_17_df, pitch_side='R', bat_side='R')\n",
    "strike_prob_plot(taken_pitches_2015_17_df, pitch_side='L', bat_side='L')\n",
    "strike_prob_plot(taken_pitches_2015_17_df, pitch_side='R', bat_side='L')\n",
    "strike_prob_plot(taken_pitches_2015_17_df, pitch_side='L', bat_side='R')"
   ]
  },
  {
   "cell_type": "markdown",
   "metadata": {},
   "source": [
    "### Spatial Distributions for Pitches Taken\n",
    "\n",
    "Instead of specifying an explicit parameterization in terms of the horizontal and vertical coordinates, we will use a smoothed estimate of the historical log-odds of a called strike as an implicit parameterization of pitch location.\n",
    "\n",
    "Below, we show the plots of the spatial distribution of taken pitches broken down by the batter and pitcher handedness."
   ]
  },
  {
   "cell_type": "code",
   "execution_count": 22,
   "metadata": {},
   "outputs": [
    {
     "data": {
      "image/png": "[encoded data removed]",
      "text/plain": [
       "<Figure size 360x360 with 1 Axes>"
      ]
     },
     "metadata": {
      "needs_background": "light"
     },
     "output_type": "display_data"
    },
    {
     "data": {
      "image/png": "[encoded data removed]",
      "text/plain": [
       "<Figure size 360x360 with 1 Axes>"
      ]
     },
     "metadata": {
      "needs_background": "light"
     },
     "output_type": "display_data"
    },
    {
     "data": {
      "image/png": "[encoded data removed]",
      "text/plain": [
       "<Figure size 360x360 with 1 Axes>"
      ]
     },
     "metadata": {
      "needs_background": "light"
     },
     "output_type": "display_data"
    },
    {
     "data": {
      "image/png": "[encoded data removed]",
      "text/plain": [
       "<Figure size 360x360 with 1 Axes>"
      ]
     },
     "metadata": {
      "needs_background": "light"
     },
     "output_type": "display_data"
    }
   ],
   "source": [
    "def pitch_location_kde_plot(df, pitch_side='R', bat_side='R'):\n",
    "    \n",
    "    temp_df = df[['plate_x', 'plate_z', 'p_throws', 'stand']]\n",
    "    temp_df.columns = ['x', 'z', 'pitch_side', 'bat_side']\n",
    "    \n",
    "    temp_df = temp_df[(temp_df['pitch_side'] == pitch_side) & (temp_df['bat_side'] == bat_side)]\n",
    "\n",
    "    # keep only the model features\n",
    "    x_z_df = temp_df.drop(['pitch_side', 'bat_side'], axis=1)\n",
    "\n",
    "    # convert coordinates to feet\n",
    "    x_z_df = x_z_df * 12.\n",
    "    \n",
    "    # convert coordinates to lists\n",
    "    x = x_z_df['x'].tolist()\n",
    "    z = x_z_df['z'].tolist()\n",
    "    \n",
    "    # plot the kernel density estimation \n",
    "    plt.figure(figsize=(5,5))\n",
    "    sns.kdeplot(x, z, cmap=\"Blues\", shade=True, shade_lowest=True, )\n",
    "    plt.xlim([-25, 25])\n",
    "    plt.ylim([5, 55])\n",
    "    plt.xlabel(\"X (in)\")\n",
    "    plt.ylabel(\"Z (in)\")\n",
    "    plt.title(f\"{bat_side}HB-{pitch_side}HP\")\n",
    "\n",
    "# make the plots\n",
    "pitch_location_kde_plot(taken_pitches_2015_17_df, pitch_side='R', bat_side='R')\n",
    "pitch_location_kde_plot(taken_pitches_2015_17_df, pitch_side='L', bat_side='L')\n",
    "pitch_location_kde_plot(taken_pitches_2015_17_df, pitch_side='R', bat_side='L')\n",
    "pitch_location_kde_plot(taken_pitches_2015_17_df, pitch_side='L', bat_side='R')\n",
    "plt.show()"
   ]
  },
  {
   "cell_type": "markdown",
   "metadata": {},
   "source": [
    "Note that the spatial distribution of taken pitches varies considerably with the combination of batter and pitcher handedness.\n",
    "\n",
    " - When the batter and pitcher of the same handedness, we see a much higher density of \"low and away\" pitches \n",
    " - In contrast, in match ups between left-handed batters and right-handed pitchers (or vice versa), we see a higher density of pitches thrown to the outside edge of the strike zone further away from the batter\n",
    " \n",
    "The differences in spatial distribution of pitches seen in these match-ups motivate us to use a separate smoothed estimate of the historical log-odds of a called strike for each combination of batter and pitcher handedness."
   ]
  },
  {
   "cell_type": "markdown",
   "metadata": {},
   "source": [
    "### Fitting a Generalized Additive Model for Pitch Location\n",
    "\n",
    "We use the aggregated data from 2015-2017 to train fit the function $f^u(x, z)$ and apply the function to the data from 2018. \n",
    "\n",
    "To get a baseline of how our models perform, let's first just train ONE model to obtain the $f(x, z)$ function."
   ]
  },
  {
   "cell_type": "code",
   "execution_count": 23,
   "metadata": {},
   "outputs": [
    {
     "ename": "MemoryError",
     "evalue": "Unable to allocate array with shape (950673, 41) and data type float64",
     "output_type": "error",
     "traceback": [
      "\u001b[0;31m---------------------------------------------------------------------------\u001b[0m",
      "\u001b[0;31mMemoryError\u001b[0m                               Traceback (most recent call last)",
      "\u001b[0;32m<ipython-input-23-5e9934271d63>\u001b[0m in \u001b[0;36m<module>\u001b[0;34m\u001b[0m\n\u001b[1;32m     10\u001b[0m \u001b[0;34m\u001b[0m\u001b[0m\n\u001b[1;32m     11\u001b[0m \u001b[0;31m# fit an \"off-the-shelf\" GAM\u001b[0m\u001b[0;34m\u001b[0m\u001b[0;34m\u001b[0m\u001b[0;34m\u001b[0m\u001b[0m\n\u001b[0;32m---> 12\u001b[0;31m \u001b[0mfxz_gam\u001b[0m \u001b[0;34m=\u001b[0m \u001b[0mLogisticGAM\u001b[0m\u001b[0;34m(\u001b[0m\u001b[0;34m)\u001b[0m\u001b[0;34m.\u001b[0m\u001b[0mfit\u001b[0m\u001b[0;34m(\u001b[0m\u001b[0mX_train\u001b[0m\u001b[0;34m,\u001b[0m \u001b[0my_train\u001b[0m\u001b[0;34m)\u001b[0m\u001b[0;34m\u001b[0m\u001b[0;34m\u001b[0m\u001b[0m\n\u001b[0m\u001b[1;32m     13\u001b[0m \u001b[0;34m\u001b[0m\u001b[0m\n\u001b[1;32m     14\u001b[0m \u001b[0;31m# print the summary for the model\u001b[0m\u001b[0;34m\u001b[0m\u001b[0;34m\u001b[0m\u001b[0;34m\u001b[0m\u001b[0m\n",
      "\u001b[0;32m~/.venvs/baseball/lib/python3.6/site-packages/pygam/pygam.py\u001b[0m in \u001b[0;36mfit\u001b[0;34m(self, X, y, weights)\u001b[0m\n\u001b[1;32m    918\u001b[0m \u001b[0;34m\u001b[0m\u001b[0m\n\u001b[1;32m    919\u001b[0m         \u001b[0;31m# optimize\u001b[0m\u001b[0;34m\u001b[0m\u001b[0;34m\u001b[0m\u001b[0;34m\u001b[0m\u001b[0m\n\u001b[0;32m--> 920\u001b[0;31m         \u001b[0mself\u001b[0m\u001b[0;34m.\u001b[0m\u001b[0m_pirls\u001b[0m\u001b[0;34m(\u001b[0m\u001b[0mX\u001b[0m\u001b[0;34m,\u001b[0m \u001b[0my\u001b[0m\u001b[0;34m,\u001b[0m \u001b[0mweights\u001b[0m\u001b[0;34m)\u001b[0m\u001b[0;34m\u001b[0m\u001b[0;34m\u001b[0m\u001b[0m\n\u001b[0m\u001b[1;32m    921\u001b[0m         \u001b[0;31m# if self._opt == 0:\u001b[0m\u001b[0;34m\u001b[0m\u001b[0;34m\u001b[0m\u001b[0;34m\u001b[0m\u001b[0m\n\u001b[1;32m    922\u001b[0m         \u001b[0;31m#     self._pirls(X, y, weights)\u001b[0m\u001b[0;34m\u001b[0m\u001b[0;34m\u001b[0m\u001b[0;34m\u001b[0m\u001b[0m\n",
      "\u001b[0;32m~/.venvs/baseball/lib/python3.6/site-packages/pygam/pygam.py\u001b[0m in \u001b[0;36m_pirls\u001b[0;34m(self, X, Y, weights)\u001b[0m\n\u001b[1;32m    736\u001b[0m \u001b[0;34m\u001b[0m\u001b[0m\n\u001b[1;32m    737\u001b[0m             \u001b[0mWB\u001b[0m \u001b[0;34m=\u001b[0m \u001b[0mW\u001b[0m\u001b[0;34m.\u001b[0m\u001b[0mdot\u001b[0m\u001b[0;34m(\u001b[0m\u001b[0mmodelmat\u001b[0m\u001b[0;34m[\u001b[0m\u001b[0mmask\u001b[0m\u001b[0;34m,\u001b[0m\u001b[0;34m:\u001b[0m\u001b[0;34m]\u001b[0m\u001b[0;34m)\u001b[0m \u001b[0;31m# common matrix product\u001b[0m\u001b[0;34m\u001b[0m\u001b[0;34m\u001b[0m\u001b[0m\n\u001b[0;32m--> 738\u001b[0;31m             \u001b[0mQ\u001b[0m\u001b[0;34m,\u001b[0m \u001b[0mR\u001b[0m \u001b[0;34m=\u001b[0m \u001b[0mnp\u001b[0m\u001b[0;34m.\u001b[0m\u001b[0mlinalg\u001b[0m\u001b[0;34m.\u001b[0m\u001b[0mqr\u001b[0m\u001b[0;34m(\u001b[0m\u001b[0mWB\u001b[0m\u001b[0;34m.\u001b[0m\u001b[0mA\u001b[0m\u001b[0;34m)\u001b[0m\u001b[0;34m\u001b[0m\u001b[0;34m\u001b[0m\u001b[0m\n\u001b[0m\u001b[1;32m    739\u001b[0m \u001b[0;34m\u001b[0m\u001b[0m\n\u001b[1;32m    740\u001b[0m             \u001b[0;32mif\u001b[0m \u001b[0;32mnot\u001b[0m \u001b[0mnp\u001b[0m\u001b[0;34m.\u001b[0m\u001b[0misfinite\u001b[0m\u001b[0;34m(\u001b[0m\u001b[0mQ\u001b[0m\u001b[0;34m)\u001b[0m\u001b[0;34m.\u001b[0m\u001b[0mall\u001b[0m\u001b[0;34m(\u001b[0m\u001b[0;34m)\u001b[0m \u001b[0;32mor\u001b[0m \u001b[0;32mnot\u001b[0m \u001b[0mnp\u001b[0m\u001b[0;34m.\u001b[0m\u001b[0misfinite\u001b[0m\u001b[0;34m(\u001b[0m\u001b[0mR\u001b[0m\u001b[0;34m)\u001b[0m\u001b[0;34m.\u001b[0m\u001b[0mall\u001b[0m\u001b[0;34m(\u001b[0m\u001b[0;34m)\u001b[0m\u001b[0;34m:\u001b[0m\u001b[0;34m\u001b[0m\u001b[0;34m\u001b[0m\u001b[0m\n",
      "\u001b[0;32m<__array_function__ internals>\u001b[0m in \u001b[0;36mqr\u001b[0;34m(*args, **kwargs)\u001b[0m\n",
      "\u001b[0;32m~/.venvs/baseball/lib/python3.6/site-packages/numpy/linalg/linalg.py\u001b[0m in \u001b[0;36mqr\u001b[0;34m(a, mode)\u001b[0m\n\u001b[1;32m    974\u001b[0m         \u001b[0;32mraise\u001b[0m \u001b[0mLinAlgError\u001b[0m\u001b[0;34m(\u001b[0m\u001b[0;34m'%s returns %d'\u001b[0m \u001b[0;34m%\u001b[0m \u001b[0;34m(\u001b[0m\u001b[0mroutine_name\u001b[0m\u001b[0;34m,\u001b[0m \u001b[0mresults\u001b[0m\u001b[0;34m[\u001b[0m\u001b[0;34m'info'\u001b[0m\u001b[0;34m]\u001b[0m\u001b[0;34m)\u001b[0m\u001b[0;34m)\u001b[0m\u001b[0;34m\u001b[0m\u001b[0;34m\u001b[0m\u001b[0m\n\u001b[1;32m    975\u001b[0m \u001b[0;34m\u001b[0m\u001b[0m\n\u001b[0;32m--> 976\u001b[0;31m     \u001b[0mq\u001b[0m \u001b[0;34m=\u001b[0m \u001b[0m_fastCopyAndTranspose\u001b[0m\u001b[0;34m(\u001b[0m\u001b[0mresult_t\u001b[0m\u001b[0;34m,\u001b[0m \u001b[0mq\u001b[0m\u001b[0;34m[\u001b[0m\u001b[0;34m:\u001b[0m\u001b[0mmc\u001b[0m\u001b[0;34m]\u001b[0m\u001b[0;34m)\u001b[0m\u001b[0;34m\u001b[0m\u001b[0;34m\u001b[0m\u001b[0m\n\u001b[0m\u001b[1;32m    977\u001b[0m     \u001b[0mr\u001b[0m \u001b[0;34m=\u001b[0m \u001b[0m_fastCopyAndTranspose\u001b[0m\u001b[0;34m(\u001b[0m\u001b[0mresult_t\u001b[0m\u001b[0;34m,\u001b[0m \u001b[0ma\u001b[0m\u001b[0;34m[\u001b[0m\u001b[0;34m:\u001b[0m\u001b[0;34m,\u001b[0m \u001b[0;34m:\u001b[0m\u001b[0mmc\u001b[0m\u001b[0;34m]\u001b[0m\u001b[0;34m)\u001b[0m\u001b[0;34m\u001b[0m\u001b[0;34m\u001b[0m\u001b[0m\n\u001b[1;32m    978\u001b[0m \u001b[0;34m\u001b[0m\u001b[0m\n",
      "\u001b[0;32m~/.venvs/baseball/lib/python3.6/site-packages/numpy/linalg/linalg.py\u001b[0m in \u001b[0;36m_fastCopyAndTranspose\u001b[0;34m(type, *arrays)\u001b[0m\n\u001b[1;32m    187\u001b[0m     \u001b[0;32mfor\u001b[0m \u001b[0ma\u001b[0m \u001b[0;32min\u001b[0m \u001b[0marrays\u001b[0m\u001b[0;34m:\u001b[0m\u001b[0;34m\u001b[0m\u001b[0;34m\u001b[0m\u001b[0m\n\u001b[1;32m    188\u001b[0m         \u001b[0;32mif\u001b[0m \u001b[0ma\u001b[0m\u001b[0;34m.\u001b[0m\u001b[0mdtype\u001b[0m\u001b[0;34m.\u001b[0m\u001b[0mtype\u001b[0m \u001b[0;32mis\u001b[0m \u001b[0mtype\u001b[0m\u001b[0;34m:\u001b[0m\u001b[0;34m\u001b[0m\u001b[0;34m\u001b[0m\u001b[0m\n\u001b[0;32m--> 189\u001b[0;31m             \u001b[0mcast_arrays\u001b[0m \u001b[0;34m=\u001b[0m \u001b[0mcast_arrays\u001b[0m \u001b[0;34m+\u001b[0m \u001b[0;34m(\u001b[0m\u001b[0m_fastCT\u001b[0m\u001b[0;34m(\u001b[0m\u001b[0ma\u001b[0m\u001b[0;34m)\u001b[0m\u001b[0;34m,\u001b[0m\u001b[0;34m)\u001b[0m\u001b[0;34m\u001b[0m\u001b[0;34m\u001b[0m\u001b[0m\n\u001b[0m\u001b[1;32m    190\u001b[0m         \u001b[0;32melse\u001b[0m\u001b[0;34m:\u001b[0m\u001b[0;34m\u001b[0m\u001b[0;34m\u001b[0m\u001b[0m\n\u001b[1;32m    191\u001b[0m             \u001b[0mcast_arrays\u001b[0m \u001b[0;34m=\u001b[0m \u001b[0mcast_arrays\u001b[0m \u001b[0;34m+\u001b[0m \u001b[0;34m(\u001b[0m\u001b[0m_fastCT\u001b[0m\u001b[0;34m(\u001b[0m\u001b[0ma\u001b[0m\u001b[0;34m.\u001b[0m\u001b[0mastype\u001b[0m\u001b[0;34m(\u001b[0m\u001b[0mtype\u001b[0m\u001b[0;34m)\u001b[0m\u001b[0;34m)\u001b[0m\u001b[0;34m,\u001b[0m\u001b[0;34m)\u001b[0m\u001b[0;34m\u001b[0m\u001b[0;34m\u001b[0m\u001b[0m\n",
      "\u001b[0;31mMemoryError\u001b[0m: Unable to allocate array with shape (950673, 41) and data type float64"
     ]
    }
   ],
   "source": [
    "# keep only the columns we need and rename them to more convenient names\n",
    "pitch_loc_df = taken_pitches_2015_17_df[['description', 'plate_x', 'plate_z']]\n",
    "pitch_loc_df.columns = ['is_strike', 'x', 'z']\n",
    "\n",
    "# convert outcome to a boolean\n",
    "pitch_loc_df['is_strike'] = pitch_loc_df['is_strike'].apply(lambda x: 1 if x == 'called_strike' else 0)\n",
    "\n",
    "X_train = pitch_loc_df.drop(['is_strike'], axis=1)\n",
    "y_train = pitch_loc_df['is_strike']\n",
    "\n",
    "# fit an \"off-the-shelf\" GAM\n",
    "fxz_gam = LogisticGAM().fit(X_train, y_train)\n",
    "\n",
    "# print the summary for the model \n",
    "print(fxz_gam.summary())\n",
    "\n",
    "# print the accruracy on the training data\n",
    "print(fxz_gam.accuracy(X_train, y_train))"
   ]
  },
  {
   "cell_type": "markdown",
   "metadata": {},
   "source": [
    "We fit generalized additive models to the data aggregated from 2015 – 2017, one for each combination of pitcher and batter handedness, hereafter referred to as the “hGAMs” or “historical GAMS.” These models express the log-odds of a called strike as a smooth function of the pitch location."
   ]
  },
  {
   "cell_type": "markdown",
   "metadata": {},
   "source": [
    "#### Fit the hGAM's "
   ]
  },
  {
   "cell_type": "code",
   "execution_count": null,
   "metadata": {},
   "outputs": [],
   "source": [
    "def train_model(df, pitch_side='R', bat_side='R'):\n",
    "\n",
    "    temp_df = df[(df['pitch_side'] == pitch_side) & (df['bat_side'] == bat_side)]\n",
    "\n",
    "    # split data into features and targets\n",
    "    X_train = temp_df.drop(['is_strike', 'pitch_side', 'bat_side'], axis=1)\n",
    "    y_train = temp_df['is_strike']\n",
    "\n",
    "    # fit the \"off-the-shelf\" model\n",
    "    gam = LogisticGAM().fit(X_train, y_train)\n",
    "    \n",
    "    print()\n",
    "    print()\n",
    "    print(\"==========================================\")\n",
    "    print(f\"Summary for {bat_side}HB-{pitch_side}HP Model\")\n",
    "    print(\"==========================================\")\n",
    "    print()\n",
    "    \n",
    "    # print the summary of the model fit\n",
    "    print(gam.summary())\n",
    "    print()\n",
    "\n",
    "    # print the accuracy on the training data\n",
    "    print(f\"{bat_side}HB-{pitch_side}HP Model accuracy: {round(gam.accuracy(X_train, y_train), 3)}\")\n",
    "    print()\n",
    "    \n",
    "    print(\"==========================================\")\n",
    "    print(\"==========================================\")\n",
    "    print()\n",
    "\n",
    "    return gam\n",
    "\n",
    "\n",
    "\n",
    "\n",
    "RHB_RHP_gam = train_model(pitch_loc_df, pitch_side='R', bat_side='R')\n",
    "LHB_LHP_gam = train_model(pitch_loc_df, pitch_side='L', bat_side='L')\n",
    "RHB_LHP_gam = train_model(pitch_loc_df, pitch_side='L', bat_side='R')\n",
    "LHB_RHP_gam = train_model(pitch_loc_df, pitch_side='R', bat_side='L')"
   ]
  },
  {
   "cell_type": "markdown",
   "metadata": {},
   "source": [
    "#### use a Kernel Density Plot to test the model on 2018 data"
   ]
  },
  {
   "cell_type": "raw",
   "metadata": {
    "jupyter": {
     "source_hidden": true
    }
   },
   "source": [
    "# get the 2018 data\n",
    "taken_pitches_2018_df = get_pitch_data(2018)\n",
    "\n",
    "# keep only the columns we need and rename columns to more convenient names\n",
    "pitch_loc_2018_df = taken_pitches_2018_df[['plate_x', 'plate_z', 'p_throws', 'stand']]\n",
    "pitch_loc_2018_df.columns = ['x', 'z', 'pitch_side', 'bat_side']\n",
    "\n",
    "pitch_loc_2018_df.head()"
   ]
  },
  {
   "cell_type": "raw",
   "metadata": {
    "jupyter": {
     "source_hidden": true
    }
   },
   "source": [
    "def hgam_forecasts(df, pitch_side='R', bat_side='R'):\n",
    "    \n",
    "    temp_df = df[(df['pitch_side'] == pitch_side) & (df['bat_side'] == bat_side)]\n",
    "\n",
    "    # keep only the model features\n",
    "    temp_df = temp_df[['x', 'z']]\n",
    "    \n",
    "    # predict the strike probabilities\n",
    "    if pitch_side == 'R' and bat_side == 'R':\n",
    "        pred_prob = RHB_RHP_gam.predict_proba(temp_df)\n",
    "        \n",
    "    X, Y = np.meshgrid(temp_df['x'], temp_df['z'])\n",
    "\n",
    "    print(X)\n",
    "#    plt.contour(temp_df['x'], temp_df['z'], pred_prob, cmap='RdGy')\n",
    "\n",
    "#     # convert coordinates to feet\n",
    "#     x_z_df = x_z_df * 12.\n",
    "    \n",
    "#     # convert coordinates to lists\n",
    "#     x = x_z_df['x'].tolist()\n",
    "#     z = x_z_df['z'].tolist()\n",
    "    \n",
    "#     # plot the kernel density estimation \n",
    "#     plt.figure(figsize=(5,5))\n",
    "#     sns.kdeplot(x, z, cmap=\"Blues\", shade=True, shade_lowest=True, )\n",
    "#     plt.xlim([-25, 25])\n",
    "#     plt.ylim([5, 55])\n",
    "#     plt.xlabel(\"X (in)\")\n",
    "#     plt.ylabel(\"Z (in)\")\n",
    "#     plt.title(f\"{bat_side}HB-{pitch_side}HP\")\n",
    "\n",
    "hgam_forecasts(pitch_loc_2018_df, pitch_side='R', bat_side='R')"
   ]
  },
  {
   "cell_type": "markdown",
   "metadata": {},
   "source": [
    "### One Model to Fit Them All"
   ]
  },
  {
   "cell_type": "code",
   "execution_count": null,
   "metadata": {},
   "outputs": [],
   "source": [
    "def build_data(year):\n",
    "\n",
    "    data = pd.read_csv(f\"../data/pitch_data_{year}.csv\")\n",
    "\n",
    "    # first, rename some team abbreviations to match between the two dataframes\n",
    "    team_rename_dict = {'NYY': 'NYA',\n",
    "                        'NYM': 'NYN', \n",
    "                        'TB': 'TBA', \n",
    "                        'CHC': 'CHN',\n",
    "                        'CWS': 'CHA',\n",
    "                        'KC': 'KCA',\n",
    "                        'SF': 'SFN',\n",
    "                        'SD': 'SDN',\n",
    "                        'LAD': 'LAN',\n",
    "                        'LAA': 'ANA',\n",
    "                        'STL': 'SLN',\n",
    "                        'WSH': 'WAS'}\n",
    "    def rename_team(x):\n",
    "        if x in list(team_rename_dict.keys()):\n",
    "            return team_rename_dict[x]\n",
    "        else:\n",
    "            return x\n",
    "    data['home_team'] = data['home_team'].apply(rename_team)\n",
    "    data['game_team_id'] = data['home_team'] + data['game_date'].str.replace('-', '')\n",
    "    hp_umps = pd.read_csv(f\"../data/hp_umpires_{year}.csv\", header=None)\n",
    "    hp_umps.columns = ['game_team_id', 'hp_umpire']\n",
    "    data = pd.merge(data, hp_umps, how='inner', on='game_team_id')\n",
    "    data.drop(['home_team', 'game_date', 'game_team_id'], axis=1, inplace=True)\n",
    "    \n",
    "    cols_to_keep = ['description', 'hp_umpire', 'pitcher', 'fielder_2', 'batter',\n",
    "                    'release_speed', 'release_pos_x', 'release_pos_y', 'release_pos_z', 'release_extension', 'release_spin_rate',\n",
    "                    'stand', 'p_throws', 'balls', 'strikes', 'outs_when_up', 'inning', 'inning_topbot', 'on_3b', 'on_2b', 'on_1b', \n",
    "                    'bat_score', 'fld_score',\n",
    "                    'pfx_x', 'pfx_z', 'plate_x', 'plate_z', 'vx0', 'vy0', 'vz0', 'ax', 'ay', 'az',\n",
    "                    ]\n",
    "\n",
    "    data = data[cols_to_keep]\n",
    "    for col in ['pitcher', 'fielder_2', 'batter', 'balls', 'strikes', 'outs_when_up', 'inning', 'bat_score', 'fld_score']:\n",
    "        data = data[data[col] == data[col]]\n",
    "        data[col] = data[col].astype(int)\n",
    "        \n",
    "    print(\"=====================\")\n",
    "    print(f\"Stats for year {year}\")\n",
    "    print(\"=====================\")\n",
    "    print_stats(data)\n",
    "    \n",
    "    # first, keep only outcomes that include called_strike or ball\n",
    "    data = data[(data['description'] == 'called_strike') | (data['description'] == 'ball')]\n",
    "\n",
    "    data['called_strike'] = data['description'] == 'called_strike'\n",
    "\n",
    "    data.drop('description', axis=1, inplace=True)\n",
    "    \n",
    "    data['bats_R'] = data['stand'] == 'R'\n",
    "\n",
    "    data['throws_R'] = data['p_throws'] == 'R'\n",
    "\n",
    "    data.drop(['stand', 'p_throws'], axis=1, inplace=True)\n",
    "\n",
    "    for col in ['on_1b', 'on_2b', 'on_3b']:\n",
    "        data[col] = data[col].apply(lambda x: x == x)\n",
    "        \n",
    "    data['inning_top'] = data['inning_topbot'] == 'Top'\n",
    "    data.drop('inning_topbot', axis=1, inplace=True)\n",
    "\n",
    "    # drop any rows with missing value (very small percentage)\n",
    "    data.dropna(inplace=True)\n",
    "\n",
    "    return data"
   ]
  },
  {
   "cell_type": "code",
   "execution_count": null,
   "metadata": {},
   "outputs": [],
   "source": [
    "data2018 = build_data(2018)\n",
    "\n",
    "X = data2018.drop(['called_strike', 'hp_umpire', 'pitcher', 'fielder_2', 'batter'], axis=1, inplace=False)\n",
    "y = data2018['called_strike']\n",
    "\n",
    "# cols_to_keep = [\n",
    "#     'release_speed',\n",
    "#     'release_pos_x','release_pos_y','release_pos_z',\n",
    "#     'pfx_x', 'pfx_z',\n",
    "#     'plate_x', 'plate_z',\n",
    "#     'bats_R', 'throws_R'\n",
    "# ]\n",
    "# X = X[cols_to_keep]\n",
    "\n",
    "X_train, X_test, y_train, y_test = train_test_split(X, y, test_size=0.3, random_state=4256)\n",
    "\n",
    "print(f\"Training dataset dimensions: {X_train.shape}\")\n",
    "print(f\"Testing dataset dimensions: {X_test.shape}\")"
   ]
  },
  {
   "cell_type": "code",
   "execution_count": null,
   "metadata": {},
   "outputs": [],
   "source": [
    "X_train.head()"
   ]
  },
  {
   "cell_type": "code",
   "execution_count": null,
   "metadata": {},
   "outputs": [],
   "source": []
  }
 ],
 "metadata": {
  "kernelspec": {
   "display_name": "Python 3",
   "language": "python",
   "name": "python3"
  },
  "language_info": {
   "codemirror_mode": {
    "name": "ipython",
    "version": 3
   },
   "file_extension": ".py",
   "mimetype": "text/x-python",
   "name": "python",
   "nbconvert_exporter": "python",
   "pygments_lexer": "ipython3",
   "version": "3.6.8"
  }
 },
 "nbformat": 4,
 "nbformat_minor": 4
}
