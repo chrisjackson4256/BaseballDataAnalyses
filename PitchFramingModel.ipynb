{
 "cells": [
  {
   "cell_type": "markdown",
   "metadata": {},
   "source": [
    "# Catcher Pitch Framing\n",
    "\n",
    "See this paper for a \"hierarchical bayesian\" approach:https://arxiv.org/abs/1704.00823\n",
    "\n",
    "See this DataRobot blog post for a ML approach (really just logistic regression): https://blog.datarobot.com/catcher-pitch-framing-using-machine-learning-part-1\n",
    "\n",
    "Or, the improved DataRobot model: https://blog.datarobot.com/catcher-pitch-framing-using-machine-learning-part-two\n",
    "\n"
   ]
  },
  {
   "cell_type": "code",
   "execution_count": 14,
   "metadata": {},
   "outputs": [],
   "source": [
    "import pandas as pd\n",
    "import warnings\n",
    "warnings.filterwarnings('ignore')"
   ]
  },
  {
   "cell_type": "markdown",
   "metadata": {},
   "source": [
    "### import the pitch data and only keep \"taken\" pitches"
   ]
  },
  {
   "cell_type": "code",
   "execution_count": 18,
   "metadata": {},
   "outputs": [],
   "source": [
    "# import the data for calendar year\n",
    "def import_data(year):\n",
    "    \n",
    "    pitch_data_df = pd.read_csv(f\"../data/pitch_by_pitch_{year}.csv\")\n",
    "    total_num_pitches = len(pitch_data_df)\n",
    "\n",
    "    print(f\"Number of total pitches in {year} data: {total_num_pitches}\")\n",
    "    print()\n",
    "\n",
    "    pitch_taken = ['ball', 'called_strike']#, 'blocked_ball', 'pitchout', 'intent_ball']\n",
    "    pitches_taken_df = pitch_data_df[pitch_data_df['description'].isin(pitch_taken)]\n",
    "    num_pitches_taken = len(pitches_taken_df)\n",
    "\n",
    "    print(f\"Number of pitches taken: {num_pitches_taken}\")\n",
    "    print(f\"Percentage of pitches taken: {round((num_pitches_taken / total_num_pitches) * 100., 2)}\")\n",
    "    print()\n",
    "\n",
    "    strikes_taken_df = pitches_taken_df[pitches_taken_df['description'] == 'called_strike']\n",
    "    num_strikes_taken = len(strikes_taken_df)\n",
    "\n",
    "    print(f\"Number of strikes taken: {num_strikes_taken}\")\n",
    "    print(f\"Percentage of strikes taken: {round((num_strikes_taken / num_pitches_taken) * 100., 2)}\")\n",
    "    \n",
    "    return pitches_taken_df"
   ]
  },
  {
   "cell_type": "markdown",
   "metadata": {},
   "source": [
    "### only keep pitches that were \"taken\""
   ]
  },
  {
   "cell_type": "code",
   "execution_count": null,
   "metadata": {},
   "outputs": [],
   "source": [
    "taken_pitches_2014_df = import_data(2014)\n",
    "\n",
    "print(taken_pitches_2014_df.shape)\n",
    "\n",
    "taken_pitches_2014_df.head()"
   ]
  },
  {
   "cell_type": "code",
   "execution_count": null,
   "metadata": {},
   "outputs": [],
   "source": []
  }
 ],
 "metadata": {
  "kernelspec": {
   "display_name": "Python 3",
   "language": "python",
   "name": "python3"
  },
  "language_info": {
   "codemirror_mode": {
    "name": "ipython",
    "version": 3
   },
   "file_extension": ".py",
   "mimetype": "text/x-python",
   "name": "python",
   "nbconvert_exporter": "python",
   "pygments_lexer": "ipython3",
   "version": "3.6.8"
  }
 },
 "nbformat": 4,
 "nbformat_minor": 2
}
