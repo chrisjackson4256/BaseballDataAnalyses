{
 "cells": [
  {
   "cell_type": "markdown",
   "metadata": {},
   "source": [
    "# The Book\n",
    "\n",
    "Code that computes tables found in Tom Tango's book \"The Book\"."
   ]
  },
  {
   "cell_type": "markdown",
   "metadata": {},
   "source": [
    "### import python modules and set up environment"
   ]
  },
  {
   "cell_type": "code",
   "execution_count": 1,
   "metadata": {},
   "outputs": [],
   "source": [
    "import json\n",
    "from pybaseball import statcast\n",
    "import pandas as pd\n",
    "import warnings\n",
    "warnings.filterwarnings('ignore')"
   ]
  },
  {
   "cell_type": "markdown",
   "metadata": {},
   "source": [
    "### download and save data"
   ]
  },
  {
   "cell_type": "raw",
   "metadata": {},
   "source": [
    "data2010 = statcast(start_dt='2010-04-04', end_dt='2010-10-03')\n",
    "data2010.to_csv(\"../data/pitch_data_2010.csv\", index=False)\n",
    "\n",
    "data2011 = statcast(start_dt='2011-03-31', end_dt='2011-09-28')\n",
    "data2011.to_csv(\"../data/pitch_data_2011.csv\", index=False)\n",
    "\n",
    "data2012 = statcast(start_dt='2012-03-28', end_dt='2012-10-03')\n",
    "data2012.to_csv(\"../data/pitch_data_2012.csv\", index=False)\n",
    "\n",
    "data2013 = statcast(start_dt='2013-03-31', end_dt='2013-09-30')\n",
    "data2013.to_csv(\"../data/pitch_data_2013.csv\", index=False)\n",
    "\n",
    "data2014 = statcast(start_dt='2014-03-22', end_dt='2014-09-28')\n",
    "data2014.to_csv(\"../data/pitch_data_2014.csv\", index=False)\n",
    "\n",
    "# data2016 = statcast(start_dt='2016-04-03', end_dt='2016-10-02')\n",
    "# data2016.to_csv(\"../data/pitch_data_2016.csv\", index=False)\n",
    "\n",
    "# data2015 = statcast(start_dt='2015-04-05', end_dt='2015-10-04')\n",
    "# data2015.to_csv(\"../data/pitch_data_2015.csv\", index=False)\n",
    "\n",
    "# data2017 = statcast(start_dt='2017-04-02', end_dt='2017-10-01')\n",
    "# data2017.to_csv(\"../data/pitch_data_2017.csv\", index=False)\n",
    "\n",
    "# data2018 = statcast(start_dt='2018-03-29', end_dt='2018-10-01')\n",
    "# data2018.to_csv(\"../data/pitch_data_2018.csv\", index=False)\n",
    "\n",
    "data2019 = statcast(start_dt='2019-03-20', end_dt='2019-08-31')\n",
    "data2019.to_csv(\"../data/pitch_data_2019.csv\", index=False)"
   ]
  },
  {
   "cell_type": "markdown",
   "metadata": {},
   "source": [
    "### define the 24 base/out states"
   ]
  },
  {
   "cell_type": "code",
   "execution_count": 2,
   "metadata": {},
   "outputs": [],
   "source": [
    "game_state_dict = {\n",
    "    (0, False, False, False): '1',\n",
    "    (1, False, False, False): '2',\n",
    "    (2, False, False, False): '3',\n",
    "    (0, True, False, False): '4',\n",
    "    (1, True, False, False): '5',\n",
    "    (2, True, False, False): '6',\n",
    "    (0, False, True, False): '7',\n",
    "    (1, False, True, False): '8',\n",
    "    (2, False, True, False): '9',\n",
    "    (0, True, True, False): '10',\n",
    "    (1, True, True, False): '11',\n",
    "    (2, True, True, False): '12',\n",
    "    (0, False, False, True): '13',\n",
    "    (1, False, False, True): '14',\n",
    "    (2, False, False, True): '15',\n",
    "    (0, True, False, True): '16',\n",
    "    (1, True, False, True): '17',\n",
    "    (2, True, False, True): '18',\n",
    "    (0, False, True, True): '19',\n",
    "    (1, False, True, True): '20',\n",
    "    (2, False, True, True): '21',\n",
    "    (0, True, True, True): '22',\n",
    "    (1, True, True, True): '23',\n",
    "    (2, True, True, True): '24'\n",
    "}"
   ]
  },
  {
   "cell_type": "markdown",
   "metadata": {},
   "source": [
    "### function to map game/states into integers"
   ]
  },
  {
   "cell_type": "code",
   "execution_count": 3,
   "metadata": {},
   "outputs": [],
   "source": [
    "def get_game_state(row):\n",
    "    return game_state_dict[row['outs_when_up'], row['on_1b'], row['on_2b'], row['on_3b']]"
   ]
  },
  {
   "cell_type": "markdown",
   "metadata": {},
   "source": [
    "## Run Expectancy\n",
    "\n",
    "__Function that takes in a range of years and computes the number of runs scored, on average,  for all 24 base/out states.__"
   ]
  },
  {
   "cell_type": "code",
   "execution_count": 6,
   "metadata": {},
   "outputs": [],
   "source": [
    "def compute_run_expectancies(start_year=2010, end_year=2010):\n",
    "    \n",
    "    # build the range of years\n",
    "    year_range = range(start_year, end_year+1, 1)\n",
    "    \n",
    "    # build the complete dataset by concatenating year-by-year\n",
    "    data_list = []\n",
    "    for year in year_range:\n",
    "\n",
    "        print(f\"Getting the data for {year}...\")\n",
    "        data = pd.read_csv(f\"../data/pitch_data_{year}.csv\")\n",
    "\n",
    "        cols_to_keep = ['game_pk', 'inning', 'inning_topbot', 'at_bat_number', 'outs_when_up', \n",
    "                        'on_1b', 'on_2b', 'on_3b', 'bat_score', 'events']\n",
    "\n",
    "        for col in ['game_pk', 'inning', 'at_bat_number', 'outs_when_up', 'bat_score']:\n",
    "            data[col] = data[col].astype(int)\n",
    "\n",
    "        for col in ['on_1b', 'on_2b', 'on_3b']:\n",
    "            data[col] = data[col] == data[col]\n",
    "\n",
    "        data = data[data['events'] == data['events']]\n",
    "\n",
    "        data = data[cols_to_keep]\n",
    "\n",
    "        data = data[data['inning'] <= 8]\n",
    "\n",
    "        data_list.append(data)\n",
    "\n",
    "    data = pd.concat(data_list)\n",
    "    \n",
    "    # get the game state\n",
    "    data['game_state'] = data.apply(get_game_state, axis=1)\n",
    "\n",
    "    # keep only the columns we need\n",
    "    data = data[['game_pk', 'inning', 'inning_topbot', 'at_bat_number', 'game_state', 'bat_score', 'events']]\n",
    "\n",
    "    # sort the data so it's in chronological order\n",
    "    data.sort_values(by=['game_pk', 'inning_topbot', 'inning', 'at_bat_number'], inplace=True)\n",
    "          \n",
    "    # intialize the game/state counts and run totals\n",
    "    game_state_runs = {\n",
    "        '1': {'count': 0, 'runs': 0},      # no runners on, 0 outs\n",
    "        '2': {'count': 0, 'runs': 0},\n",
    "        '3': {'count': 0, 'runs': 0},\n",
    "        '4': {'count': 0, 'runs': 0},\n",
    "        '5': {'count': 0, 'runs': 0},\n",
    "        '6': {'count': 0, 'runs': 0},\n",
    "        '7': {'count': 0, 'runs': 0},\n",
    "        '8': {'count': 0, 'runs': 0},\n",
    "        '9': {'count': 0, 'runs': 0},\n",
    "        '10': {'count': 0, 'runs': 0},\n",
    "        '11': {'count': 0, 'runs': 0},\n",
    "        '12': {'count': 0, 'runs': 0},\n",
    "        '13': {'count': 0, 'runs': 0},\n",
    "        '14': {'count': 0, 'runs': 0},\n",
    "        '15': {'count': 0, 'runs': 0},\n",
    "        '16': {'count': 0, 'runs': 0},\n",
    "        '17': {'count': 0, 'runs': 0},\n",
    "        '18': {'count': 0, 'runs': 0},\n",
    "        '19': {'count': 0, 'runs': 0},\n",
    "        '20': {'count': 0, 'runs': 0},\n",
    "        '21': {'count': 0, 'runs': 0},\n",
    "        '22': {'count': 0, 'runs': 0},\n",
    "        '23': {'count': 0, 'runs': 0},\n",
    "        '24': {'count': 0, 'runs': 0},\n",
    "    }\n",
    "\n",
    "    game_pk_list = data['game_pk'].unique().tolist()\n",
    "    \n",
    "    print(f\"Number of games in the dataset: {len(game_pk_list)}\")\n",
    "\n",
    "    for j, game_pk in enumerate(game_pk_list):\n",
    "\n",
    "        if j % 100 == 0:\n",
    "            print(f\"Game {j} of {len(game_pk_list)}\")\n",
    "\n",
    "        for inning_topbot in ['Top', 'Bot']:\n",
    "            for inning in [1, 2, 3, 4, 5, 6, 7, 8]:\n",
    "\n",
    "                data_temp = data[(data['game_pk'] == game_pk) & (data['inning'] == inning) & (data['inning_topbot'] == inning_topbot)]\n",
    "\n",
    "                for i in range(len(data_temp)):\n",
    "                    game_state = data_temp.iloc[i]['game_state']\n",
    "                    final_score = data_temp.iloc[-1]['bat_score']\n",
    "                    state_score = data_temp.iloc[i]['bat_score']\n",
    "                    game_state_runs[game_state]['count'] += 1\n",
    "                    game_state_runs[game_state]['runs'] += (final_score - state_score)\n",
    "                \n",
    "    run_expectancies = {i: game_state_runs[i]['runs'] / game_state_runs[i]['count'] for i in list(game_state_runs.keys())}\n",
    "\n",
    "    return run_expectancies"
   ]
  },
  {
   "cell_type": "code",
   "execution_count": 7,
   "metadata": {},
   "outputs": [
    {
     "name": "stdout",
     "output_type": "stream",
     "text": [
      "Getting the data for 2019...\n",
      "Number of games in the dataset: 1821\n",
      "Game 0 of 1821\n",
      "Game 100 of 1821\n",
      "Game 200 of 1821\n",
      "Game 300 of 1821\n",
      "Game 400 of 1821\n",
      "Game 500 of 1821\n",
      "Game 600 of 1821\n",
      "Game 700 of 1821\n",
      "Game 800 of 1821\n",
      "Game 900 of 1821\n",
      "Game 1000 of 1821\n",
      "Game 1100 of 1821\n",
      "Game 1200 of 1821\n",
      "Game 1300 of 1821\n",
      "Game 1400 of 1821\n",
      "Game 1500 of 1821\n",
      "Game 1600 of 1821\n",
      "Game 1700 of 1821\n",
      "Game 1800 of 1821\n"
     ]
    }
   ],
   "source": [
    "# compute the run expectancy matrix for 2019\n",
    "run_expectancies = compute_run_expectancies(start_year=2019, end_year=2019)\n",
    "\n",
    "# write to file as a json object\n",
    "# with open('run_expectancies_2013_2018.json', 'w') as fp:\n",
    "#     json.dump(run_expectancies_2019, fp, indent=4)"
   ]
  },
  {
   "cell_type": "code",
   "execution_count": 8,
   "metadata": {},
   "outputs": [
    {
     "data": {
      "text/plain": [
       "{'1': 0.5465735628450795,\n",
       " '2': 0.29776499225492364,\n",
       " '3': 0.1165884626000552,\n",
       " '4': 0.9587998208687863,\n",
       " '5': 0.5597607129776584,\n",
       " '6': 0.23781861292234735,\n",
       " '7': 1.1589958158995817,\n",
       " '8': 0.712116701399226,\n",
       " '9': 0.3495503804473138,\n",
       " '10': 1.5890330188679245,\n",
       " '11': 0.9882718178682304,\n",
       " '12': 0.4554945054945055,\n",
       " '13': 1.4554455445544554,\n",
       " '14': 0.9924528301886792,\n",
       " '15': 0.36200923787528866,\n",
       " '16': 1.8080985915492958,\n",
       " '17': 1.1976833976833976,\n",
       " '18': 0.5095267363245236,\n",
       " '19': 2.054112554112554,\n",
       " '20': 1.4273684210526316,\n",
       " '21': 0.5644067796610169,\n",
       " '22': 2.4200913242009134,\n",
       " '23': 1.6679209783631233,\n",
       " '24': 0.757002271006813}"
      ]
     },
     "execution_count": 8,
     "metadata": {},
     "output_type": "execute_result"
    }
   ],
   "source": [
    "run_expectancies"
   ]
  },
  {
   "cell_type": "markdown",
   "metadata": {},
   "source": [
    "## Run Values"
   ]
  },
  {
   "cell_type": "code",
   "execution_count": 57,
   "metadata": {},
   "outputs": [],
   "source": [
    "def compute_run_values(start_year=2010, end_year=2010):\n",
    "    \n",
    "    # build the range of years\n",
    "    year_range = range(start_year, end_year+1, 1)\n",
    "    \n",
    "    # build the complete dataset by concatenating year-by-year\n",
    "    data_list = []\n",
    "    for year in year_range:\n",
    "\n",
    "        print(f\"Getting the data for {year}...\")\n",
    "        data = pd.read_csv(f\"../data/pitch_data_{year}.csv\")\n",
    "        \n",
    "        cols_to_keep = ['game_pk', 'inning', 'inning_topbot', 'at_bat_number', 'outs_when_up', \n",
    "                        'on_1b', 'on_2b', 'on_3b', 'bat_score', 'events']\n",
    "        \n",
    "        data = data[cols_to_keep]\n",
    "\n",
    "        data = data[data['inning'] <= 8]\n",
    "\n",
    "        for col in ['game_pk', 'inning', 'at_bat_number', 'outs_when_up', 'bat_score']:\n",
    "            data[col] = data[col].astype(int)\n",
    "\n",
    "        for col in ['on_1b', 'on_2b', 'on_3b']:\n",
    "            data[col] = data[col] == data[col]\n",
    "\n",
    "        data = data[data['events'] == data['events']]\n",
    "\n",
    "        data_list.append(data)\n",
    "\n",
    "    data = pd.concat(data_list)\n",
    "    \n",
    "    # get the game state\n",
    "    data['game_state'] = data.apply(get_game_state, axis=1)\n",
    "\n",
    "    # keep only the columns we need\n",
    "    data = data[['game_pk', 'inning', 'inning_topbot', 'at_bat_number', 'game_state', 'bat_score', 'events']]\n",
    "    \n",
    "    # sort the data so it's in chronological order\n",
    "    data.sort_values(by=['game_pk', 'inning_topbot', 'inning', 'at_bat_number'], inplace=True)\n",
    "    \n",
    "    # group all of the different types of caught_stealing into one category\n",
    "    def map_caught_stealing(x):\n",
    "        caught_stealing_list = ['caught_stealing_2b', 'caught_stealing_3b', 'caught_stealing_home',\n",
    "                                'pickoff_caught_stealing_2b', 'pickoff_caught_stealing_3b', 'pickoff_caught_stealing_home']\n",
    "        if x in caught_stealing_list:\n",
    "            return 'caught_stealing'\n",
    "        else:\n",
    "            return x\n",
    "    data['events'] = data['events'].apply(map_caught_stealing)\n",
    "\n",
    "    # intialize the event counts and run totals\n",
    "    event_runs = {\n",
    "        'home_run': {'count': 0, 'runs': 0, 'game_state_re': [0]},\n",
    "        'triple': {'count': 0, 'runs': 0, 'game_state_re': [0]},\n",
    "        'double': {'count': 0, 'runs': 0, 'game_state_re': [0]},\n",
    "        'single': {'count': 0, 'runs': 0, 'game_state_re': [0]},\n",
    "        'field_error': {'count': 0, 'runs': 0, 'game_state_re': [0]},\n",
    "        'catcher_interf': {'count': 0, 'runs': 0, 'game_state_re': [0]},\n",
    "        'sac_bunt': {'count': 0, 'runs': 0, 'game_state_re': [0]},\n",
    "        'hit_by_pitch': {'count': 0, 'runs': 0, 'game_state_re': [0]},\n",
    "        'walk': {'count': 0, 'runs': 0, 'game_state_re': [0]},\n",
    "        'intent_walk': {'count': 0, 'runs': 0, 'game_state_re': [0]},\n",
    "        'strikeout': {'count': 0, 'runs': 0, 'game_state_re': [0]},\n",
    "        'field_out': {'count': 0, 'runs': 0, 'game_state_re': [0]},\n",
    "#        'caught_stealing': {'count': 0, 'runs': 0, 'game_state_re': [0]}\n",
    "    }\n",
    "\n",
    "    game_pk_list = data['game_pk'].unique().tolist()\n",
    "    \n",
    "    print(f\"Number of games in the dataset: {len(game_pk_list)}\")\n",
    "    \n",
    "    for j, game_pk in enumerate(game_pk_list):\n",
    "\n",
    "        if j % 100 == 0:\n",
    "            print(f\"Game {j} of {len(game_pk_list)}\")\n",
    "\n",
    "        for inning_topbot in ['Top', 'Bot']:\n",
    "            for inning in [1, 2, 3, 4, 5, 6, 7, 8]:\n",
    "\n",
    "                data_temp = data[(data['game_pk'] == game_pk) & (data['inning'] == inning) & (data['inning_topbot'] == inning_topbot)]\n",
    "\n",
    "                for i in range(len(data_temp)):\n",
    "                    event = data_temp.iloc[i]['events']\n",
    "                    game_state = data_temp.iloc[i]['game_state']\n",
    "                    final_score = data_temp.iloc[-1]['bat_score']\n",
    "                    state_score = data_temp.iloc[i]['bat_score']\n",
    "                    try:\n",
    "                        event_runs[event]['count'] += 1\n",
    "                        event_runs[event]['runs'] += (final_score - state_score)\n",
    "                        event_runs[event]['game_state_re'].append(run_expectancies[game_state])\n",
    "                    except KeyError:\n",
    "                        continue\n",
    "    \n",
    "    run_values = {i: {'N': event_runs[i]['count'],\n",
    "                      'Runs to End of Inning': event_runs[i]['runs'],\n",
    "                      'Average': event_runs[i]['runs'] / event_runs[i]['count'], \n",
    "                      'Starting RE': sum(event_runs[i]['game_state_re']) / (len(event_runs[i]['game_state_re']+1)),\n",
    "                      'Run Value': event_runs[i]['runs'] / (event_runs[i]['count']+1) - sum(event_runs[i]['game_state_re']) / (len(event_runs[i]['game_state_re'])+1)} for i in list(event_runs.keys())}        \n",
    "    return run_values"
   ]
  },
  {
   "cell_type": "code",
   "execution_count": null,
   "metadata": {},
   "outputs": [
    {
     "name": "stdout",
     "output_type": "stream",
     "text": [
      "Getting the data for 2019...\n",
      "Number of games in the dataset: 1821\n",
      "Game 0 of 1821\n",
      "Game 100 of 1821\n",
      "Game 200 of 1821\n",
      "Game 300 of 1821\n",
      "Game 400 of 1821\n",
      "Game 500 of 1821\n",
      "Game 600 of 1821\n",
      "Game 700 of 1821\n",
      "Game 800 of 1821\n",
      "Game 900 of 1821\n",
      "Game 1000 of 1821\n",
      "Game 1100 of 1821\n",
      "Game 1200 of 1821\n",
      "Game 1300 of 1821\n"
     ]
    }
   ],
   "source": [
    "run_values = compute_run_values(start_year=2019, end_year=2019)"
   ]
  },
  {
   "cell_type": "code",
   "execution_count": null,
   "metadata": {},
   "outputs": [],
   "source": [
    "run_values"
   ]
  },
  {
   "cell_type": "code",
   "execution_count": null,
   "metadata": {},
   "outputs": [],
   "source": []
  }
 ],
 "metadata": {
  "kernelspec": {
   "display_name": "Python 3",
   "language": "python",
   "name": "python3"
  },
  "language_info": {
   "codemirror_mode": {
    "name": "ipython",
    "version": 3
   },
   "file_extension": ".py",
   "mimetype": "text/x-python",
   "name": "python",
   "nbconvert_exporter": "python",
   "pygments_lexer": "ipython3",
   "version": "3.7.0"
  }
 },
 "nbformat": 4,
 "nbformat_minor": 2
}
