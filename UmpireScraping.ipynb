{
 "cells": [
  {
   "cell_type": "markdown",
   "metadata": {},
   "source": [
    "# Umpire Scraping\n",
    "\n",
    "Given a season, scrape baseball-reference.com for the homeplate umpire"
   ]
  },
  {
   "cell_type": "code",
   "execution_count": 1,
   "metadata": {},
   "outputs": [],
   "source": [
    "import csv\n",
    "import requests\n",
    "from bs4 import BeautifulSoup, Comment"
   ]
  },
  {
   "cell_type": "code",
   "execution_count": 2,
   "metadata": {},
   "outputs": [],
   "source": [
    "schedule_page = requests.get(\"https://www.baseball-reference.com/leagues/MLB/2016-schedule.shtml\")\n",
    "soup = BeautifulSoup(schedule_page.content, 'html.parser')"
   ]
  },
  {
   "cell_type": "code",
   "execution_count": 3,
   "metadata": {},
   "outputs": [
    {
     "data": {
      "text/plain": [
       "['/boxes/TOR/TOR201610190.shtml',\n",
       " '/boxes/LAN/LAN201610200.shtml',\n",
       " '/boxes/CHN/CHN201610220.shtml',\n",
       " '/boxes/CLE/CLE201610250.shtml',\n",
       " '/boxes/CLE/CLE201610260.shtml',\n",
       " '/boxes/CHN/CHN201610280.shtml',\n",
       " '/boxes/CHN/CHN201610290.shtml',\n",
       " '/boxes/CHN/CHN201610300.shtml',\n",
       " '/boxes/CLE/CLE201611010.shtml',\n",
       " '/boxes/CLE/CLE201611020.shtml']"
      ]
     },
     "execution_count": 3,
     "metadata": {},
     "output_type": "execute_result"
    }
   ],
   "source": [
    "games_list = soup.find_all(\"p\", attrs={\"game\"})\n",
    "games_list_href = [x.find_all(\"a\", href=True)[-1]['href'] for x in games_list]\n",
    "games_list_href[-10:]"
   ]
  },
  {
   "cell_type": "code",
   "execution_count": 4,
   "metadata": {},
   "outputs": [
    {
     "name": "stdout",
     "output_type": "stream",
     "text": [
      "Game 0\n",
      "Game 100\n",
      "Game 200\n",
      "Game 300\n",
      "Game 400\n",
      "Game 500\n",
      "Game 600\n",
      "Game 700\n",
      "Game 800\n",
      "Game 900\n",
      "Game 1000\n",
      "Game 1100\n",
      "Game 1200\n",
      "Game 1300\n",
      "Game 1400\n",
      "Game 1500\n",
      "Game 1600\n",
      "Game 1700\n",
      "Game 1800\n",
      "Game 1900\n",
      "Game 2000\n",
      "Game 2100\n",
      "Game 2200\n",
      "Game 2300\n",
      "Game 2400\n"
     ]
    }
   ],
   "source": [
    "bbref_addr = 'https://www.baseball-reference.com'\n",
    "\n",
    "hp_umpire_dict = {}\n",
    "for i, game in enumerate(games_list_href):\n",
    "    \n",
    "    if i % 100 == 0:\n",
    "        print(f\"Game {i}\")\n",
    "        \n",
    "    # get the id for the game\n",
    "    game_id = game.split('/')[-1][:-7]\n",
    "        \n",
    "    # build the url for the game\n",
    "    game_addr = bbref_addr + game\n",
    "    \n",
    "    # scrape the webpage for the game\n",
    "    game_page = requests.get(game_addr)\n",
    "    soup = BeautifulSoup(game_page.content, 'html.parser')\n",
    "    \n",
    "    # the umpires are stashed in a comments section\n",
    "    comments = soup.find_all(string=lambda text: isinstance(text, Comment))\n",
    "    ump_string = [x for x in comments if 'Umpires' in x][0]\n",
    "    ump_string = ump_string.strip()\n",
    "    ump_string = ump_string.replace(',', '')\n",
    "    \n",
    "    # extract the HP umpire\n",
    "    ump_list = ump_string.split()\n",
    "    hp_idx = ump_list.index('HP')\n",
    "    first_name = ump_list[hp_idx+2]\n",
    "    last_name = ump_list[hp_idx+3]\n",
    "    \n",
    "    hp_umpire_dict[game_id] = first_name + ' ' + last_name\n",
    "    \n",
    "w = csv.writer(open(\"../data/hp_umpires_2016.csv\", \"w\"))\n",
    "for key, val in hp_umpire_dict.items():\n",
    "    w.writerow([key, val])"
   ]
  },
  {
   "cell_type": "code",
   "execution_count": 6,
   "metadata": {},
   "outputs": [],
   "source": [
    "w = csv.writer(open(\"../data/hp_umpires_2016.csv\", \"w\"))\n",
    "for key, val in hp_umpire_dict.items():\n",
    "    w.writerow([key, val])"
   ]
  },
  {
   "cell_type": "code",
   "execution_count": 7,
   "metadata": {},
   "outputs": [
    {
     "data": {
      "text/plain": [
       "(2449, 2)"
      ]
     },
     "execution_count": 7,
     "metadata": {},
     "output_type": "execute_result"
    }
   ],
   "source": [
    "import pandas as pd\n",
    "df = pd.read_csv(\"../data/hp_umpires_2016.csv\", header=None)\n",
    "df.shape"
   ]
  },
  {
   "cell_type": "code",
   "execution_count": null,
   "metadata": {},
   "outputs": [],
   "source": []
  }
 ],
 "metadata": {
  "kernelspec": {
   "display_name": "Python 3",
   "language": "python",
   "name": "python3"
  },
  "language_info": {
   "codemirror_mode": {
    "name": "ipython",
    "version": 3
   },
   "file_extension": ".py",
   "mimetype": "text/x-python",
   "name": "python",
   "nbconvert_exporter": "python",
   "pygments_lexer": "ipython3",
   "version": "3.7.0"
  }
 },
 "nbformat": 4,
 "nbformat_minor": 2
}
