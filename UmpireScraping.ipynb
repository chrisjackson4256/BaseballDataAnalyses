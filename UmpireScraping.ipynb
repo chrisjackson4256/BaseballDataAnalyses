{
 "cells": [
  {
   "cell_type": "markdown",
   "metadata": {},
   "source": [
    "# Umpire Scraping\n",
    "\n",
    "Given a season, scrape baseball-reference.com for the homeplate umpire"
   ]
  },
  {
   "cell_type": "code",
   "execution_count": 1,
   "metadata": {},
   "outputs": [],
   "source": [
    "import csv\n",
    "import requests\n",
    "from bs4 import BeautifulSoup, Comment\n",
    "bbref_addr = 'https://www.baseball-reference.com'"
   ]
  },
  {
   "cell_type": "code",
   "execution_count": 9,
   "metadata": {},
   "outputs": [],
   "source": [
    "def scrape_hp_umps(year=2015):\n",
    "    \n",
    "    schedule_page = requests.get(f\"{bbref_addr}/leagues/MLB/{year}-schedule.shtml\")\n",
    "    soup = BeautifulSoup(schedule_page.content, 'html.parser')\n",
    "    \n",
    "    games_list = soup.find_all(\"p\", attrs={\"game\"})\n",
    "    games_list_href = [x.find_all(\"a\", href=True)[-1]['href'] for x in games_list]\n",
    "    \n",
    "    games_list_href = [x for x in games_list_href if x.startswith('/boxes')]\n",
    "        \n",
    "    hp_umpire_dict = {}\n",
    "    for i, game in enumerate(games_list_href):\n",
    "\n",
    "        if i % 100 == 0:\n",
    "            print(f\"Game {i}\")\n",
    "\n",
    "        # get the id for the game\n",
    "        game_id = game.split('/')[-1][:-7]\n",
    "\n",
    "        # build the url for the game\n",
    "        game_addr = bbref_addr + game\n",
    "        \n",
    "        # scrape the webpage for the game\n",
    "        game_page = requests.get(game_addr)\n",
    "        soup = BeautifulSoup(game_page.content, 'html.parser')\n",
    "\n",
    "        # the umpires are stashed in a comments section\n",
    "        comments = soup.find_all(string=lambda text: isinstance(text, Comment))\n",
    "        ump_string = [x for x in comments if 'Umpires' in x][0]\n",
    "        ump_string = ump_string.strip()\n",
    "        ump_string = ump_string.replace(',', '')\n",
    "\n",
    "        # extract the HP umpire\n",
    "        ump_list = ump_string.split()\n",
    "        hp_idx = ump_list.index('HP')\n",
    "        first_name = ump_list[hp_idx+2]\n",
    "        last_name = ump_list[hp_idx+3]\n",
    "\n",
    "        hp_umpire_dict[game_id] = first_name + ' ' + last_name\n",
    "        \n",
    "    w = csv.writer(open(f\"../data/hp_umpires_{year}.csv\", \"w\"))\n",
    "    for key, val in hp_umpire_dict.items():\n",
    "        w.writerow([key, val])"
   ]
  },
  {
   "cell_type": "code",
   "execution_count": 10,
   "metadata": {},
   "outputs": [
    {
     "name": "stdout",
     "output_type": "stream",
     "text": [
      "==================================\n",
      "getting data for 2019 season...\n",
      "==================================\n",
      "Game 0\n",
      "Game 100\n",
      "Game 200\n",
      "Game 300\n",
      "Game 400\n",
      "Game 500\n",
      "Game 600\n",
      "Game 700\n",
      "Game 800\n",
      "Game 900\n",
      "Game 1000\n",
      "Game 1100\n",
      "Game 1200\n",
      "Game 1300\n",
      "Game 1400\n",
      "Game 1500\n",
      "Game 1600\n",
      "Game 1700\n",
      "Game 1800\n",
      "Game 1900\n",
      "Game 2000\n",
      "Game 2100\n",
      "Game 2200\n",
      "Game 2300\n",
      "\n"
     ]
    }
   ],
   "source": [
    "for year in [2019]:\n",
    "    print(\"==================================\")\n",
    "    print(f\"getting data for {year} season...\")\n",
    "    print(\"==================================\")\n",
    "    scrape_hp_umps(year)\n",
    "    print()"
   ]
  },
  {
   "cell_type": "code",
   "execution_count": null,
   "metadata": {},
   "outputs": [],
   "source": []
  }
 ],
 "metadata": {
  "kernelspec": {
   "display_name": "Python 3",
   "language": "python",
   "name": "python3"
  },
  "language_info": {
   "codemirror_mode": {
    "name": "ipython",
    "version": 3
   },
   "file_extension": ".py",
   "mimetype": "text/x-python",
   "name": "python",
   "nbconvert_exporter": "python",
   "pygments_lexer": "ipython3",
   "version": "3.6.8"
  }
 },
 "nbformat": 4,
 "nbformat_minor": 4
}
